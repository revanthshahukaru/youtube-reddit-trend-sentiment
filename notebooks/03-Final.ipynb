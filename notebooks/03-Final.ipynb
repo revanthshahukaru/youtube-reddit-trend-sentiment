{
 "cells": [
  {
   "cell_type": "markdown",
   "metadata": {},
   "source": [
    "## 🔑 OpenAI API Key"
   ]
  },
  {
   "cell_type": "code",
   "execution_count": 15,
   "metadata": {},
   "outputs": [],
   "source": [
    "from dotenv import load_dotenv\n",
    "import os\n",
    "\n",
    "load_dotenv()\n",
    "\n",
    "OPENAI_KEY = os.getenv(\"OPENAI_API_KEY\")"
   ]
  },
  {
   "cell_type": "markdown",
   "metadata": {
    "id": "BEaRumfwffaS"
   },
   "source": [
    "## 📚 Imports"
   ]
  },
  {
   "cell_type": "code",
   "execution_count": 16,
   "metadata": {
    "executionInfo": {
     "elapsed": 4,
     "status": "ok",
     "timestamp": 1745092663933,
     "user": {
      "displayName": "Revanth Shahukaru",
      "userId": "15386280149867855082"
     },
     "user_tz": 240
    },
    "id": "yh1CMsESfiC4"
   },
   "outputs": [],
   "source": [
    "import pandas as pd\n",
    "import matplotlib.pyplot as plt\n",
    "import seaborn as sns\n",
    "from openai import OpenAI\n",
    "from IPython.display import display\n",
    "\n",
    "import traceback\n",
    "import re # To clean the LLM Output"
   ]
  },
  {
   "cell_type": "markdown",
   "metadata": {
    "id": "1Eh_kfbYfsEZ"
   },
   "source": [
    "## 📥 Load datasets\n"
   ]
  },
  {
   "cell_type": "code",
   "execution_count": 17,
   "metadata": {
    "executionInfo": {
     "elapsed": 1302,
     "status": "ok",
     "timestamp": 1745091368639,
     "user": {
      "displayName": "Revanth Shahukaru",
      "userId": "15386280149867855082"
     },
     "user_tz": 240
    },
    "id": "SIjXNZp8ftVH"
   },
   "outputs": [],
   "source": [
    "yt_df = pd.read_csv(\"../data/youtube_data.csv\")\n",
    "rd_df = pd.read_csv(\"../data/reddit_data.csv\")"
   ]
  },
  {
   "cell_type": "code",
   "execution_count": 18,
   "metadata": {},
   "outputs": [
    {
     "data": {
      "text/html": [
       "<div>\n",
       "<style scoped>\n",
       "    .dataframe tbody tr th:only-of-type {\n",
       "        vertical-align: middle;\n",
       "    }\n",
       "\n",
       "    .dataframe tbody tr th {\n",
       "        vertical-align: top;\n",
       "    }\n",
       "\n",
       "    .dataframe thead th {\n",
       "        text-align: right;\n",
       "    }\n",
       "</style>\n",
       "<table border=\"1\" class=\"dataframe\">\n",
       "  <thead>\n",
       "    <tr style=\"text-align: right;\">\n",
       "      <th></th>\n",
       "      <th>video_title</th>\n",
       "      <th>channel</th>\n",
       "      <th>comment</th>\n",
       "      <th>comment_sentiment</th>\n",
       "      <th>video_url</th>\n",
       "    </tr>\n",
       "  </thead>\n",
       "  <tbody>\n",
       "    <tr>\n",
       "      <th>0</th>\n",
       "      <td>The Elder Scrolls IV: Oblivion Remastered - Fu...</td>\n",
       "      <td>Bethesda Softworks</td>\n",
       "      <td>Came for the thumbnail, stayed for the vibes</td>\n",
       "      <td>0.0000</td>\n",
       "      <td>https://www.youtube.com/watch?v=Ed_E2crglcw</td>\n",
       "    </tr>\n",
       "    <tr>\n",
       "      <th>1</th>\n",
       "      <td>The Elder Scrolls IV: Oblivion Remastered - Fu...</td>\n",
       "      <td>Bethesda Softworks</td>\n",
       "      <td>That part at 2:45 Instant goosebumps</td>\n",
       "      <td>0.0000</td>\n",
       "      <td>https://www.youtube.com/watch?v=Ed_E2crglcw</td>\n",
       "    </tr>\n",
       "    <tr>\n",
       "      <th>2</th>\n",
       "      <td>The Elder Scrolls IV: Oblivion Remastered - Fu...</td>\n",
       "      <td>Bethesda Softworks</td>\n",
       "      <td>I guess Bethesda realized they should stop re ...</td>\n",
       "      <td>0.4019</td>\n",
       "      <td>https://www.youtube.com/watch?v=Ed_E2crglcw</td>\n",
       "    </tr>\n",
       "    <tr>\n",
       "      <th>3</th>\n",
       "      <td>The Elder Scrolls IV: Oblivion Remastered - Fu...</td>\n",
       "      <td>Bethesda Softworks</td>\n",
       "      <td>Came for the thumbnail, stayed for the vibes</td>\n",
       "      <td>0.0000</td>\n",
       "      <td>https://www.youtube.com/watch?v=Ed_E2crglcw</td>\n",
       "    </tr>\n",
       "    <tr>\n",
       "      <th>4</th>\n",
       "      <td>The Elder Scrolls IV: Oblivion Remastered - Fu...</td>\n",
       "      <td>Bethesda Softworks</td>\n",
       "      <td>You just earned a new subscriber</td>\n",
       "      <td>0.0000</td>\n",
       "      <td>https://www.youtube.com/watch?v=Ed_E2crglcw</td>\n",
       "    </tr>\n",
       "  </tbody>\n",
       "</table>\n",
       "</div>"
      ],
      "text/plain": [
       "                                         video_title             channel  \\\n",
       "0  The Elder Scrolls IV: Oblivion Remastered - Fu...  Bethesda Softworks   \n",
       "1  The Elder Scrolls IV: Oblivion Remastered - Fu...  Bethesda Softworks   \n",
       "2  The Elder Scrolls IV: Oblivion Remastered - Fu...  Bethesda Softworks   \n",
       "3  The Elder Scrolls IV: Oblivion Remastered - Fu...  Bethesda Softworks   \n",
       "4  The Elder Scrolls IV: Oblivion Remastered - Fu...  Bethesda Softworks   \n",
       "\n",
       "                                             comment  comment_sentiment  \\\n",
       "0       Came for the thumbnail, stayed for the vibes             0.0000   \n",
       "1               That part at 2:45 Instant goosebumps             0.0000   \n",
       "2  I guess Bethesda realized they should stop re ...             0.4019   \n",
       "3       Came for the thumbnail, stayed for the vibes             0.0000   \n",
       "4                   You just earned a new subscriber             0.0000   \n",
       "\n",
       "                                     video_url  \n",
       "0  https://www.youtube.com/watch?v=Ed_E2crglcw  \n",
       "1  https://www.youtube.com/watch?v=Ed_E2crglcw  \n",
       "2  https://www.youtube.com/watch?v=Ed_E2crglcw  \n",
       "3  https://www.youtube.com/watch?v=Ed_E2crglcw  \n",
       "4  https://www.youtube.com/watch?v=Ed_E2crglcw  "
      ]
     },
     "execution_count": 18,
     "metadata": {},
     "output_type": "execute_result"
    }
   ],
   "source": [
    "yt_df.head()"
   ]
  },
  {
   "cell_type": "code",
   "execution_count": 19,
   "metadata": {},
   "outputs": [
    {
     "data": {
      "text/html": [
       "<div>\n",
       "<style scoped>\n",
       "    .dataframe tbody tr th:only-of-type {\n",
       "        vertical-align: middle;\n",
       "    }\n",
       "\n",
       "    .dataframe tbody tr th {\n",
       "        vertical-align: top;\n",
       "    }\n",
       "\n",
       "    .dataframe thead th {\n",
       "        text-align: right;\n",
       "    }\n",
       "</style>\n",
       "<table border=\"1\" class=\"dataframe\">\n",
       "  <thead>\n",
       "    <tr style=\"text-align: right;\">\n",
       "      <th></th>\n",
       "      <th>youtube_title</th>\n",
       "      <th>reddit_post_title</th>\n",
       "      <th>post_score</th>\n",
       "      <th>post_url</th>\n",
       "      <th>post_created</th>\n",
       "      <th>post_sentiment</th>\n",
       "      <th>post_sentiment_emoji</th>\n",
       "      <th>comment</th>\n",
       "      <th>cleaned_comment</th>\n",
       "      <th>comment_sentiment</th>\n",
       "      <th>comment_sentiment_emoji</th>\n",
       "      <th>comment_author</th>\n",
       "      <th>comment_score</th>\n",
       "    </tr>\n",
       "  </thead>\n",
       "  <tbody>\n",
       "    <tr>\n",
       "      <th>0</th>\n",
       "      <td>The Elder Scrolls IV: Oblivion Remastered - Fu...</td>\n",
       "      <td>Possessed Love Season 2 - Episode 9 - 250422</td>\n",
       "      <td>6</td>\n",
       "      <td>https://www.reddit.com/r/koreanvariety/comment...</td>\n",
       "      <td>2025-04-22 17:40:21</td>\n",
       "      <td>0.6369</td>\n",
       "      <td>😃</td>\n",
       "      <td>why did kangwon leave? weird 🤔🤔</td>\n",
       "      <td>why did kangwon leave weird</td>\n",
       "      <td>-0.2263</td>\n",
       "      <td>😐</td>\n",
       "      <td>009763</td>\n",
       "      <td>1</td>\n",
       "    </tr>\n",
       "    <tr>\n",
       "      <th>1</th>\n",
       "      <td>The Elder Scrolls IV: Oblivion Remastered - Fu...</td>\n",
       "      <td>Possessed Love Season 2 - Episode 9 - 250422</td>\n",
       "      <td>6</td>\n",
       "      <td>https://www.reddit.com/r/koreanvariety/comment...</td>\n",
       "      <td>2025-04-22 17:40:21</td>\n",
       "      <td>0.6369</td>\n",
       "      <td>😃</td>\n",
       "      <td>I saw the spoilers and just wondering why did ...</td>\n",
       "      <td>i saw the spoilers and just wondering why did ...</td>\n",
       "      <td>0.6280</td>\n",
       "      <td>😃</td>\n",
       "      <td>dreamstorming</td>\n",
       "      <td>1</td>\n",
       "    </tr>\n",
       "    <tr>\n",
       "      <th>2</th>\n",
       "      <td>The Elder Scrolls IV: Oblivion Remastered - Fu...</td>\n",
       "      <td>Possessed Love Season 2 - Episode 9 - 250422</td>\n",
       "      <td>6</td>\n",
       "      <td>https://www.reddit.com/r/koreanvariety/comment...</td>\n",
       "      <td>2025-04-22 17:40:21</td>\n",
       "      <td>0.6369</td>\n",
       "      <td>😃</td>\n",
       "      <td>Yugyeong really said- if you're not giving me ...</td>\n",
       "      <td>yugyeong really said if youre not giving me an...</td>\n",
       "      <td>-0.0351</td>\n",
       "      <td>😐</td>\n",
       "      <td>Rare-Counter-8772</td>\n",
       "      <td>1</td>\n",
       "    </tr>\n",
       "    <tr>\n",
       "      <th>3</th>\n",
       "      <td>The Elder Scrolls IV: Oblivion Remastered - Of...</td>\n",
       "      <td>The Elder Scrolls IV: Oblivion Remastered - Of...</td>\n",
       "      <td>3739</td>\n",
       "      <td>https://www.youtube.com/watch?v=wFJ3PZuAjK4</td>\n",
       "      <td>2025-04-22 15:15:16</td>\n",
       "      <td>0.0000</td>\n",
       "      <td>😐</td>\n",
       "      <td>Wow, that looks absolutely great. A *huge* gra...</td>\n",
       "      <td>wow that looks absolutely great a huge graphic...</td>\n",
       "      <td>0.9716</td>\n",
       "      <td>😃</td>\n",
       "      <td>TheVoidDragon</td>\n",
       "      <td>1239</td>\n",
       "    </tr>\n",
       "    <tr>\n",
       "      <th>4</th>\n",
       "      <td>The Elder Scrolls IV: Oblivion Remastered - Of...</td>\n",
       "      <td>The Elder Scrolls IV: Oblivion Remastered - Of...</td>\n",
       "      <td>3739</td>\n",
       "      <td>https://www.youtube.com/watch?v=wFJ3PZuAjK4</td>\n",
       "      <td>2025-04-22 15:15:16</td>\n",
       "      <td>0.0000</td>\n",
       "      <td>😐</td>\n",
       "      <td>My goodness. I'd never expected this. They wen...</td>\n",
       "      <td>my goodness id never expected this they went a...</td>\n",
       "      <td>0.1779</td>\n",
       "      <td>😐</td>\n",
       "      <td>Walgreens_Security</td>\n",
       "      <td>620</td>\n",
       "    </tr>\n",
       "  </tbody>\n",
       "</table>\n",
       "</div>"
      ],
      "text/plain": [
       "                                       youtube_title  \\\n",
       "0  The Elder Scrolls IV: Oblivion Remastered - Fu...   \n",
       "1  The Elder Scrolls IV: Oblivion Remastered - Fu...   \n",
       "2  The Elder Scrolls IV: Oblivion Remastered - Fu...   \n",
       "3  The Elder Scrolls IV: Oblivion Remastered - Of...   \n",
       "4  The Elder Scrolls IV: Oblivion Remastered - Of...   \n",
       "\n",
       "                                   reddit_post_title  post_score  \\\n",
       "0       Possessed Love Season 2 - Episode 9 - 250422           6   \n",
       "1       Possessed Love Season 2 - Episode 9 - 250422           6   \n",
       "2       Possessed Love Season 2 - Episode 9 - 250422           6   \n",
       "3  The Elder Scrolls IV: Oblivion Remastered - Of...        3739   \n",
       "4  The Elder Scrolls IV: Oblivion Remastered - Of...        3739   \n",
       "\n",
       "                                            post_url         post_created  \\\n",
       "0  https://www.reddit.com/r/koreanvariety/comment...  2025-04-22 17:40:21   \n",
       "1  https://www.reddit.com/r/koreanvariety/comment...  2025-04-22 17:40:21   \n",
       "2  https://www.reddit.com/r/koreanvariety/comment...  2025-04-22 17:40:21   \n",
       "3        https://www.youtube.com/watch?v=wFJ3PZuAjK4  2025-04-22 15:15:16   \n",
       "4        https://www.youtube.com/watch?v=wFJ3PZuAjK4  2025-04-22 15:15:16   \n",
       "\n",
       "   post_sentiment post_sentiment_emoji  \\\n",
       "0          0.6369                    😃   \n",
       "1          0.6369                    😃   \n",
       "2          0.6369                    😃   \n",
       "3          0.0000                    😐   \n",
       "4          0.0000                    😐   \n",
       "\n",
       "                                             comment  \\\n",
       "0                    why did kangwon leave? weird 🤔🤔   \n",
       "1  I saw the spoilers and just wondering why did ...   \n",
       "2  Yugyeong really said- if you're not giving me ...   \n",
       "3  Wow, that looks absolutely great. A *huge* gra...   \n",
       "4  My goodness. I'd never expected this. They wen...   \n",
       "\n",
       "                                     cleaned_comment  comment_sentiment  \\\n",
       "0                       why did kangwon leave weird             -0.2263   \n",
       "1  i saw the spoilers and just wondering why did ...             0.6280   \n",
       "2  yugyeong really said if youre not giving me an...            -0.0351   \n",
       "3  wow that looks absolutely great a huge graphic...             0.9716   \n",
       "4  my goodness id never expected this they went a...             0.1779   \n",
       "\n",
       "  comment_sentiment_emoji      comment_author  comment_score  \n",
       "0                       😐              009763              1  \n",
       "1                       😃       dreamstorming              1  \n",
       "2                       😐   Rare-Counter-8772              1  \n",
       "3                       😃       TheVoidDragon           1239  \n",
       "4                       😐  Walgreens_Security            620  "
      ]
     },
     "execution_count": 19,
     "metadata": {},
     "output_type": "execute_result"
    }
   ],
   "source": [
    "rd_df.head()"
   ]
  },
  {
   "cell_type": "markdown",
   "metadata": {
    "id": "M0KUeuKQfvTk"
   },
   "source": [
    "## 🧹 Previews\n"
   ]
  },
  {
   "cell_type": "code",
   "execution_count": 6,
   "metadata": {
    "colab": {
     "base_uri": "https://localhost:8080/"
    },
    "executionInfo": {
     "elapsed": 4,
     "status": "ok",
     "timestamp": 1745091375536,
     "user": {
      "displayName": "Revanth Shahukaru",
      "userId": "15386280149867855082"
     },
     "user_tz": 240
    },
    "id": "XHW3BHzRfwcT",
    "outputId": "20646a4d-62b8-41ab-ea90-ac7f35456364"
   },
   "outputs": [
    {
     "name": "stdout",
     "output_type": "stream",
     "text": [
      "🎥 YouTube data shape: (749, 5)\n",
      "📕 Reddit data shape: (196, 13)\n"
     ]
    }
   ],
   "source": [
    "print(\"🎥 YouTube data shape:\", yt_df.shape)\n",
    "print(\"📕 Reddit data shape:\", rd_df.shape)"
   ]
  },
  {
   "cell_type": "markdown",
   "metadata": {},
   "source": [
    "### Example of how the most positive comment (in the dataset) looks like:"
   ]
  },
  {
   "cell_type": "code",
   "execution_count": 31,
   "metadata": {},
   "outputs": [
    {
     "name": "stdout",
     "output_type": "stream",
     "text": [
      "Most Negative Comment:\n",
      "\n",
      "The \"Biden was horrible, but this is equally as bad.\" got me. How the fuck is this equally as bad? Biden didn't singlehandedly tank the world economy and destroy our federal workforce and infrastructure. Their ability to ignore reality is... just... beyond the pale!\n",
      "\n",
      "🧠 Sentiment Score: -0.9737\n"
     ]
    }
   ],
   "source": [
    "row = rd_df.loc[rd_df['comment_sentiment'].idxmin()]\n",
    "print(\"Most Negative Comment:\\n\")\n",
    "print(row['comment'])\n",
    "print(\"\\n🧠 Sentiment Score:\", row['comment_sentiment'])"
   ]
  },
  {
   "cell_type": "markdown",
   "metadata": {
    "id": "IK3nfiwafyQQ"
   },
   "source": [
    "## 🎯 Aggregated Sentiment Analysis\n"
   ]
  },
  {
   "cell_type": "markdown",
   "metadata": {},
   "source": [
    "## 📊 What is a KDE Plot?\n",
    "\n",
    "**KDE** stands for **Kernel Density Estimate**.\n",
    "\n",
    "A KDE (Kernel Density Estimate) plot is a type of visualization that provides a smooth, continuous curve representing the distribution of data, much like a histogram.\n",
    "\n",
    "- It’s a way to **estimate the probability distribution** of a continuous variable — like sentiment scores.\n",
    "- Unlike a histogram (which shows bars), a KDE plot shows a **smooth curve** that represents the **density of values**.\n",
    "\n",
    "> Think of it as a smoothed-out version of a histogram that shows where data points are most concentrated.\n",
    "\n",
    "\n",
    "\n",
    "---\n",
    "\n",
    "## 📉 What The Following Plot Shows\n",
    "\n",
    "The following KDE plot is comparing **sentiment scores** from:\n",
    "\n",
    "- 🟦 **YouTube Comments**\n",
    "- 🟧 **Reddit Comments**\n",
    "\n",
    "Both are plotted on the same X-axis, which represents the **compound sentiment score** from VADER:\n",
    "- **-1** = very negative\n",
    "- **0** = neutral\n",
    "- **+1** = very positive"
   ]
  },
  {
   "cell_type": "code",
   "execution_count": 33,
   "metadata": {
    "colab": {
     "base_uri": "https://localhost:8080/",
     "height": 487
    },
    "executionInfo": {
     "elapsed": 272,
     "status": "ok",
     "timestamp": 1745094243874,
     "user": {
      "displayName": "Revanth Shahukaru",
      "userId": "15386280149867855082"
     },
     "user_tz": 240
    },
    "id": "gdjdHwvAfzw8",
    "outputId": "f2b44f15-fa38-4661-8239-ea34adb72a77"
   },
   "outputs": [
    {
     "data": {
      "image/png": "[encoded data removed]",
      "text/plain": [
       "<Figure size 1000x500 with 1 Axes>"
      ]
     },
     "metadata": {},
     "output_type": "display_data"
    }
   ],
   "source": [
    "# Create plot\n",
    "plt.figure(figsize=(10, 5))\n",
    "sns.kdeplot(yt_df['comment_sentiment'], label='YouTube Comments', fill=True)\n",
    "sns.kdeplot(rd_df['comment_sentiment'], label='Reddit Comments', fill=True)\n",
    "plt.title('Sentiment Distribution: YouTube vs Reddit')\n",
    "plt.xlabel('Sentiment Score')\n",
    "plt.ylabel('Density')\n",
    "plt.legend()\n",
    "\n",
    "# ✅ Save BEFORE showing (Otherwise, a blank image will be saved)\n",
    "plt.savefig(\"../data/sentiment_distribution.png\", bbox_inches=\"tight\")\n",
    "\n",
    "# Then show (for notebook preview)\n",
    "plt.show()\n",
    "plt.close()"
   ]
  },
  {
   "cell_type": "markdown",
   "metadata": {},
   "source": [
    "## 📖 Interpretation\n",
    "\n",
    "### 1. **YouTube Comments (Blue)**:\n",
    "- Peaks sharply **at 0** and again near **0.7**, indicating:\n",
    "  - A high concentration of **neutral to moderately positive** comments\n",
    "  - Very few extreme negative comments\n",
    "\n",
    "### 2. **Reddit Comments (Orange)**:\n",
    "- Smoother, more spread out\n",
    "- Covers more of the **negative side** (to the left of 0)\n",
    "  - Suggests Reddit users express **a wider range of sentiment**, including more negative tones\n",
    "\n",
    "---\n",
    "\n",
    "## 🧠 Key Takeaways\n",
    "\n",
    "- **YouTube** has a **tighter, more positive skew**: Comments tend to be safe, neutral, or supportive.\n",
    "- **Reddit** shows a **broader sentiment range**, including a noticeable **presence of criticism or sarcasm**.\n",
    "- This supports the idea that Reddit discussions are more **opinionated**, while YouTube comments are often more surface-level or appreciative."
   ]
  },
  {
   "cell_type": "markdown",
   "metadata": {
    "id": "BdM1EQVCf2y1"
   },
   "source": [
    "## 📊 Average Sentiment Comparison\n"
   ]
  },
  {
   "cell_type": "code",
   "execution_count": 34,
   "metadata": {
    "colab": {
     "base_uri": "https://localhost:8080/",
     "height": 125
    },
    "executionInfo": {
     "elapsed": 99,
     "status": "ok",
     "timestamp": 1745091389146,
     "user": {
      "displayName": "Revanth Shahukaru",
      "userId": "15386280149867855082"
     },
     "user_tz": 240
    },
    "id": "C76_KUcSf44X",
    "outputId": "e41d2ed3-3ae9-440c-a861-7738f7924187"
   },
   "outputs": [
    {
     "data": {
      "text/html": [
       "<div>\n",
       "<style scoped>\n",
       "    .dataframe tbody tr th:only-of-type {\n",
       "        vertical-align: middle;\n",
       "    }\n",
       "\n",
       "    .dataframe tbody tr th {\n",
       "        vertical-align: top;\n",
       "    }\n",
       "\n",
       "    .dataframe thead th {\n",
       "        text-align: right;\n",
       "    }\n",
       "</style>\n",
       "<table border=\"1\" class=\"dataframe\">\n",
       "  <thead>\n",
       "    <tr style=\"text-align: right;\">\n",
       "      <th></th>\n",
       "      <th>Platform</th>\n",
       "      <th>Avg Comment Sentiment</th>\n",
       "    </tr>\n",
       "  </thead>\n",
       "  <tbody>\n",
       "    <tr>\n",
       "      <th>0</th>\n",
       "      <td>YouTube</td>\n",
       "      <td>0.266027</td>\n",
       "    </tr>\n",
       "    <tr>\n",
       "      <th>1</th>\n",
       "      <td>Reddit</td>\n",
       "      <td>0.151047</td>\n",
       "    </tr>\n",
       "  </tbody>\n",
       "</table>\n",
       "</div>"
      ],
      "text/plain": [
       "  Platform  Avg Comment Sentiment\n",
       "0  YouTube               0.266027\n",
       "1   Reddit               0.151047"
      ]
     },
     "metadata": {},
     "output_type": "display_data"
    }
   ],
   "source": [
    "avg_sentiments = pd.DataFrame({\n",
    "    'Platform': ['YouTube', 'Reddit'],\n",
    "    'Avg Comment Sentiment': [yt_df['comment_sentiment'].mean(), rd_df['comment_sentiment'].mean()]\n",
    "})\n",
    "display(avg_sentiments)"
   ]
  },
  {
   "cell_type": "markdown",
   "metadata": {
    "id": "zmxtQGAQf5Xm"
   },
   "source": [
    "## 🧠 Create grouped summaries for LLM\n"
   ]
  },
  {
   "cell_type": "code",
   "execution_count": 35,
   "metadata": {},
   "outputs": [],
   "source": [
    "# Instantiating OpenAI\n",
    "client = OpenAI(api_key=OPENAI_KEY)"
   ]
  },
  {
   "cell_type": "code",
   "execution_count": 36,
   "metadata": {
    "executionInfo": {
     "elapsed": 28369,
     "status": "ok",
     "timestamp": 1745092222769,
     "user": {
      "displayName": "Revanth Shahukaru",
      "userId": "15386280149867855082"
     },
     "user_tz": 240
    },
    "id": "4SaLgLTnf7pr"
   },
   "outputs": [],
   "source": [
    "topics = yt_df['video_title'].unique()\n",
    "final_outputs = []\n",
    "\n",
    "for topic in topics:\n",
    "    yt_comments = yt_df[yt_df['video_title'] == topic]['comment'].dropna().tolist()\n",
    "    reddit_rows = rd_df[rd_df['youtube_title'] == topic]\n",
    "    reddit_post = reddit_rows['reddit_post_title'].unique()[0] if not reddit_rows.empty else \"No Reddit post found\"\n",
    "    reddit_comments = reddit_rows['comment'].dropna().tolist()\n",
    "\n",
    "    if not yt_comments and not reddit_comments:\n",
    "        continue\n",
    "\n",
    "    # ✅ Cleaned, limited comments for brevity\n",
    "    yt_sample = \"\\n- \".join(yt_comments[:3])\n",
    "    rd_sample = \"\\n- \".join(reddit_comments[:3])\n",
    "\n",
    "    # ✅ Full prompt passed to model\n",
    "    user_prompt = f\"\"\"\n",
    "Video Title: {topic}\n",
    "Reddit Post Title: {reddit_post}\n",
    "\n",
    "🟦 YouTube Comments:\n",
    "- {yt_sample}\n",
    "\n",
    "🟥 Reddit Comments:\n",
    "- {rd_sample}\n",
    "    \"\"\"\n",
    "\n",
    "    try:\n",
    "        response = client.chat.completions.create(\n",
    "            model=\"gpt-4o\",\n",
    "            messages=[\n",
    "                {\n",
    "                    \"role\": \"system\",\n",
    "                    \"content\": \"You are a social media analyst. Analyze public perception around this topic using the comments from YouTube and Reddit. Provide a concise summary and highlight any sentiment trends or contrasting opinions between platforms.\"\n",
    "                },\n",
    "                {\n",
    "                    \"role\": \"user\",\n",
    "                    \"content\": user_prompt.strip()\n",
    "                }\n",
    "            ],\n",
    "            temperature=0.7\n",
    "        )\n",
    "        output = response.choices[0].message.content\n",
    "    except Exception as e:\n",
    "        output = f\"⚠️ Error for topic: {topic} | {str(e)}\"\n",
    "        print(traceback.format_exc())\n",
    "\n",
    "    final_outputs.append({\n",
    "        \"topic\": topic,\n",
    "        \"reddit_post_title\": reddit_post,\n",
    "        \"llm_analysis\": output\n",
    "    })"
   ]
  },
  {
   "cell_type": "markdown",
   "metadata": {
    "id": "j3Dx9Qgxf9_g"
   },
   "source": [
    "## 📋 Show results"
   ]
  },
  {
   "cell_type": "code",
   "execution_count": 37,
   "metadata": {
    "colab": {
     "base_uri": "https://localhost:8080/",
     "height": 206
    },
    "executionInfo": {
     "elapsed": 9,
     "status": "ok",
     "timestamp": 1745093563766,
     "user": {
      "displayName": "Revanth Shahukaru",
      "userId": "15386280149867855082"
     },
     "user_tz": 240
    },
    "id": "KMV3HdbEfVry",
    "outputId": "a96e2767-f7b7-4a47-b6e1-1ff48a272a52"
   },
   "outputs": [
    {
     "data": {
      "text/html": [
       "<div>\n",
       "<style scoped>\n",
       "    .dataframe tbody tr th:only-of-type {\n",
       "        vertical-align: middle;\n",
       "    }\n",
       "\n",
       "    .dataframe tbody tr th {\n",
       "        vertical-align: top;\n",
       "    }\n",
       "\n",
       "    .dataframe thead th {\n",
       "        text-align: right;\n",
       "    }\n",
       "</style>\n",
       "<table border=\"1\" class=\"dataframe\">\n",
       "  <thead>\n",
       "    <tr style=\"text-align: right;\">\n",
       "      <th></th>\n",
       "      <th>topic</th>\n",
       "      <th>reddit_post_title</th>\n",
       "      <th>llm_analysis</th>\n",
       "      <th>llm_clean_analysis</th>\n",
       "    </tr>\n",
       "  </thead>\n",
       "  <tbody>\n",
       "    <tr>\n",
       "      <th>0</th>\n",
       "      <td>The Elder Scrolls IV: Oblivion Remastered - Fu...</td>\n",
       "      <td>Possessed Love Season 2 - Episode 9 - 250422</td>\n",
       "      <td>Based on the comments from YouTube and Reddit,...</td>\n",
       "      <td>Based on the comments from YouTube and Reddit,...</td>\n",
       "    </tr>\n",
       "    <tr>\n",
       "      <th>1</th>\n",
       "      <td>The Elder Scrolls IV: Oblivion Remastered - Of...</td>\n",
       "      <td>The Elder Scrolls IV: Oblivion Remastered - Of...</td>\n",
       "      <td>**Summary of Public Perception:**\\n\\nThe annou...</td>\n",
       "      <td>Summary of Public Perception:\\nThe announcemen...</td>\n",
       "    </tr>\n",
       "    <tr>\n",
       "      <th>2</th>\n",
       "      <td>The Elder Scrolls IV: Oblivion Remastered - Of...</td>\n",
       "      <td>The Elder Scrolls IV: Oblivion Remastered | Re...</td>\n",
       "      <td>The public perception surrounding the announce...</td>\n",
       "      <td>The public perception surrounding the announce...</td>\n",
       "    </tr>\n",
       "    <tr>\n",
       "      <th>3</th>\n",
       "      <td>FULL SEGMENT: Randy Orton ROCKS John Cena with...</td>\n",
       "      <td>Post WWE Raw 4/21/2025 Show Discussion Thread ...</td>\n",
       "      <td>Based on the comments from both YouTube and Re...</td>\n",
       "      <td>Based on the comments from both YouTube and Re...</td>\n",
       "    </tr>\n",
       "    <tr>\n",
       "      <th>4</th>\n",
       "      <td>I KNOW WHAT YOU DID LAST SUMMER - Official Tra...</td>\n",
       "      <td>I KNOW WHAT YOU DID LAST SUMMER - Official Tra...</td>\n",
       "      <td>The public perception of the trailer for \"I KN...</td>\n",
       "      <td>The public perception of the trailer for \"I KN...</td>\n",
       "    </tr>\n",
       "  </tbody>\n",
       "</table>\n",
       "</div>"
      ],
      "text/plain": [
       "                                               topic  \\\n",
       "0  The Elder Scrolls IV: Oblivion Remastered - Fu...   \n",
       "1  The Elder Scrolls IV: Oblivion Remastered - Of...   \n",
       "2  The Elder Scrolls IV: Oblivion Remastered - Of...   \n",
       "3  FULL SEGMENT: Randy Orton ROCKS John Cena with...   \n",
       "4  I KNOW WHAT YOU DID LAST SUMMER - Official Tra...   \n",
       "\n",
       "                                   reddit_post_title  \\\n",
       "0       Possessed Love Season 2 - Episode 9 - 250422   \n",
       "1  The Elder Scrolls IV: Oblivion Remastered - Of...   \n",
       "2  The Elder Scrolls IV: Oblivion Remastered | Re...   \n",
       "3  Post WWE Raw 4/21/2025 Show Discussion Thread ...   \n",
       "4  I KNOW WHAT YOU DID LAST SUMMER - Official Tra...   \n",
       "\n",
       "                                        llm_analysis  \\\n",
       "0  Based on the comments from YouTube and Reddit,...   \n",
       "1  **Summary of Public Perception:**\\n\\nThe annou...   \n",
       "2  The public perception surrounding the announce...   \n",
       "3  Based on the comments from both YouTube and Re...   \n",
       "4  The public perception of the trailer for \"I KN...   \n",
       "\n",
       "                                  llm_clean_analysis  \n",
       "0  Based on the comments from YouTube and Reddit,...  \n",
       "1  Summary of Public Perception:\\nThe announcemen...  \n",
       "2  The public perception surrounding the announce...  \n",
       "3  Based on the comments from both YouTube and Re...  \n",
       "4  The public perception of the trailer for \"I KN...  "
      ]
     },
     "execution_count": 37,
     "metadata": {},
     "output_type": "execute_result"
    }
   ],
   "source": [
    "llm_df = pd.DataFrame(final_outputs)\n",
    "\n",
    "# Using Regular Expressions to clean the LLM Output\n",
    "def clean_llm_output(text):\n",
    "    # Remove Markdown bold/italic\n",
    "    text = re.sub(r\"\\*\\*(.*?)\\*\\*\", r\"\\1\", text)\n",
    "    text = re.sub(r\"\\*(.*?)\\*\", r\"\\1\", text)\n",
    "    # Remove Headers\n",
    "    text = re.sub(r\"\\#+\", r\"\", text)\n",
    "    # Remove newlines and excessive spacing\n",
    "    text = re.sub(r\"\\n+\", \"\\n\", text)\n",
    "    text = re.sub(r\"\\s{2,}\", \" \", text)\n",
    "    return text.strip()\n",
    "\n",
    "# Applying the cleaning function to the 'llm_analysis' column\n",
    "llm_df['llm_clean_analysis'] = llm_df['llm_analysis'].apply(clean_llm_output)\n",
    "\n",
    "llm_df.head()"
   ]
  },
  {
   "cell_type": "code",
   "execution_count": 38,
   "metadata": {
    "colab": {
     "base_uri": "https://localhost:8080/"
    },
    "executionInfo": {
     "elapsed": 20,
     "status": "ok",
     "timestamp": 1745093657558,
     "user": {
      "displayName": "Revanth Shahukaru",
      "userId": "15386280149867855082"
     },
     "user_tz": 240
    },
    "id": "-Pa_vNqMfVht",
    "outputId": "966b5688-1078-4c7a-e06f-b884741a229b"
   },
   "outputs": [
    {
     "name": "stdout",
     "output_type": "stream",
     "text": [
      "Based on the comments from YouTube and Reddit, we can derive distinct public perceptions and sentiment trends for each platform regarding different topics.\n",
      "YouTube Comments:\n",
      "The YouTube comments focus on the reveal of \"The Elder Scrolls IV: Oblivion Remastered.\" The sentiment is generally positive, with viewers expressing excitement and nostalgia. One commenter humorously notes the shift from continuously re-releasing \"Skyrim\" to now potentially seeing multiple re-releases of \"Oblivion.\" This suggests a mix of enthusiasm for the remaster and skepticism about Bethesda's strategy of frequent re-releases.\n",
      "Reddit Comments:\n",
      "The Reddit comments are centered around the TV show \"Possessed Love,\" specifically episode 9 of season 2. The sentiment here is more inquisitive and somewhat concerned, with users questioning the unexpected departure of a character named Kangwon. There is speculation about the reasons behind his exit, indicating a demand for transparency from the show's producers. Additionally, there is a light-hearted comment about another character, Yugyeong, which adds a playful tone to the discussion.\n",
      "Contrasting Opinions and Trends:\n",
      "- Focus and Engagement: YouTube comments focus on gaming and the excitement around a remaster, reflecting engagement through nostalgia and humor. Conversely, Reddit comments are centered on a TV show with more of an investigative and speculative tone, reflecting deeper engagement with plot and character development.\n",
      "- Sentiment: YouTube shows a positive, light-hearted sentiment with a touch of skepticism about re-release practices. Reddit displays curiosity and concern, with a mixture of speculation and affection for the show's characters.\n",
      "Overall, while YouTube users are excited about gaming content with a hint of skepticism, Reddit users are more focused on understanding and discussing plot developments and character arcs in a TV series.\n",
      "\n",
      "\n",
      "Summary of Public Perception:\n",
      "The announcement of \"The Elder Scrolls IV: Oblivion Remastered\" has generated varying sentiments across YouTube and Reddit. YouTube Sentiment:\n",
      "- The comments on YouTube tend to be more critical, with users expressing dissatisfaction and skepticism. The sentiment is largely negative, focusing on the perceived failure of recent Bethesda projects like \"Starfield\" and the long wait for this remaster. There is frustration over the time taken to release the remaster and a perceived lack of innovation.\n",
      "Reddit Sentiment:\n",
      "- On Reddit, the sentiment is overwhelmingly positive. Users are impressed with the graphical and gameplay enhancements, praising the developers' choices in what aspects of the game to modernize. There is excitement about the surprise release and nostalgia, with specific appreciation for the return of original voice actors like Patrick Stewart.\n",
      "Contrasting Opinions:\n",
      "- The primary contrast between platforms is the tone of the feedback. YouTube users focus on criticism and disappointment, possibly reflecting a broader skepticism towards Bethesda's recent efforts. In contrast, Reddit users display enthusiasm and appreciation for the remaster, highlighting a detailed examination of the improvements and expressing satisfaction with the development studio's efforts.\n",
      "Overall, while YouTube comments reflect a critical and somewhat cynical outlook, Reddit shows a more positive reception, with excitement about the remaster's improvements and nostalgic elements.\n",
      "\n",
      "\n",
      "The public perception surrounding the announcement of The Elder Scrolls IV: Oblivion Remastered is generally positive across both YouTube and Reddit, with a strong undercurrent of nostalgia and excitement. On YouTube, the comments reflect a mix of enthusiasm and humor. Users express excitement about the release, with some jesting about Bethesda's pattern of remastering games every few years. A comment humorously notes Bethesda's secrecy until the release, highlighting a sense of surprise and delight among fans. The sentiment is largely positive, with a tone of appreciation for the remaster.\n",
      "On Reddit, the comments are more focused on personal nostalgia and anticipation for revisiting specific in-game experiences, such as fighting in the arena. There's also excitement from users who have only experienced Skyrim, expressing eagerness to explore Oblivion for the first time. The mention of an armored horse in the trailer is a playful nod to past DLC, indicating a light-hearted and engaged community.\n",
      "Overall, both platforms exhibit a positive sentiment, with YouTube comments showing a slightly more humorous and critical perspective, while Reddit discussions revolve around personal nostalgia and new experiences for first-time players.\n",
      "\n",
      "\n",
      "Based on the comments from both YouTube and Reddit, public perception around the WWE Raw event on April 21, 2025, is generally positive, but the focus of discussion varies between the two platforms.\n",
      "YouTube Comments:\n",
      "The sentiment on YouTube appears to be lighthearted and positive, with comments expressing enjoyment of the video, particularly the RKO move by Randy Orton on John Cena. The comments are more generic and focus on the entertainment value and quality of the video, with users expressing admiration for John Cena and the overall vibe of the segment.\n",
      "Reddit Comments:\n",
      "On Reddit, the discussion is more analytical and speculative. Users are excited about storyline developments, particularly the formation of a faction involving Seth Rollins, Bron Breakker, and Paul Heyman. There is a strong interest in the potential future storyline where Bron Breakker might turn against Seth Rollins, drawing parallels to Batista's historical turn against Triple H. The focus is on character development and long-term storytelling, indicating a more engaged and invested audience.\n",
      "Sentiment Trends and Contrasting Opinions:\n",
      "- YouTube comments are more casual, focusing on immediate entertainment and iconic moments, showing a positive response to the specific segment.\n",
      "- Reddit comments delve into deeper analysis and future implications of storyline developments, demonstrating a more engaged and speculative discussion.\n",
      "Overall, the perception is positive on both platforms, with YouTube favoring the entertainment aspect and Reddit engaging in storyline analysis and character development.\n",
      "\n",
      "\n",
      "The public perception of the trailer for \"I KNOW WHAT YOU DID LAST SUMMER\" shows a mix of curiosity, nostalgia, and humor across both YouTube and Reddit platforms. On YouTube, the comments indicate a mix of intrigue and confusion, with viewers appreciating the start of the trailer and seeking clarity on whether the film is a reboot or sequel. This suggests a level of engagement and interest, albeit with some ambiguity regarding the film's position in the franchise.\n",
      "On Reddit, the comments reflect a more playful and nostalgic tone. Users express excitement about the return of characters like Ray and Julie, and there's a lighthearted wish for Brandy's return. The comments also include humorous takes, such as the exaggerated comment about the bath bomb, indicating a casual and fun engagement with the trailer content.\n",
      "In summary, YouTube comments show a blend of interest and need for clarification, while Reddit comments lean towards excitement and humor. Both platforms demonstrate a positive reception, with Reddit showing a slightly more playful engagement.\n",
      "\n",
      "\n",
      "Summary\n",
      "The YouTube comments on the video titled \"Can We Beat Josh Allen & Jon Rahm in a Golf Match?\" are generally positive and appreciative. Commenters expressed gratitude for the content and its enlightening nature, suggesting a positive reception towards the video. There is a light-hearted engagement with suggestions on who to challenge next in a similar golf match, indicating interest in more content of this nature.\n",
      "In contrast, the Reddit comments under the post titled \"I’m pretty sure my Wife’s DM hates me\" reveal a more intense and personal discourse. The comments delve into dissatisfaction with a Dungeon Master (DM) in a role-playing game setting. The focus is on feeling isolated and inadequately supported within the game. Commenters suggest leaving the game due to these negative experiences and discuss the importance of inclusive and enjoyable gameplay. The sentiment here is largely negative, with commenters sympathizing with the poster's plight and advocating for a change in the gaming environment. Sentiment Trends and Contrasting Opinions\n",
      "- YouTube Sentiment: Predominantly positive with an emphasis on appreciation and enjoyment of the video content. The discussion is light-hearted and focused on future content possibilities.\n",
      "- Reddit Sentiment: Overwhelmingly negative and personal, centered on dissatisfaction with a gaming experience due to perceived mismanagement by a Dungeon Master. The advice leans towards seeking a more supportive and enjoyable environment.\n",
      "- Contrasting Opinions: The YouTube comments reflect a shared enjoyment and anticipation for similar content, indicative of a communal and supportive audience. Conversely, the Reddit comments highlight issues of exclusion and dissatisfaction, with a focus on resolving personal grievances within a gaming context.\n",
      "Overall, the analysis shows a stark contrast between the light-hearted entertainment focus on YouTube and the personal conflict resolution discussions on Reddit.\n",
      "\n",
      "\n",
      "Summary:\n",
      "The public perception around the video \"Your Time Machine Broke - At The Worst Time In History\" by Kurzgesagt shows a mixed but generally positive engagement across YouTube and Reddit. YouTube Comments:\n",
      "- The comments on YouTube are sparse and somewhat off-topic, with a focus on the sponsorship by Brilliant and some lighthearted remarks. There is a comment questioning the video's title choice as \"rude,\" indicating a possible mild disagreement or humor in response to the title.\n",
      "Reddit Comments:\n",
      "- On Reddit, the discussion seems more engaged with the content of the video. Comments reflect on the notion of the \"worst time in history,\" with one user humorously suggesting that there might be worse times yet to come. Another comment mentions the Triassic period, possibly implying a preference for that era over the one depicted in the video. Overall, the sentiment is positive, with one user simply stating, \"This is great.\"\n",
      "Sentiment Trends:\n",
      "- YouTube: The sentiment is neutral to slightly positive, with comments focusing more on the sponsorship and playful engagement with the video's title.\n",
      "- Reddit: The sentiment is more clearly positive, with users engaging more substantively with the video's theme and expressing enjoyment.\n",
      "Contrasting Opinions:\n",
      "- YouTube comments are less engaged with the video's content and more focused on peripheral aspects such as the sponsorship.\n",
      "- Reddit comments show a deeper engagement with the video's theme and express a more enthusiastic reception of the content.\n",
      "\n",
      "\n",
      "The public perception surrounding the \"Destiny 2: The Edge of Fate\" reveal shows a mix of anticipation and skepticism across both YouTube and Reddit platforms.\n",
      "On YouTube, commenters express a level of cynicism towards the game, focusing on the perceived cost and content removal issues in Destiny 2. One comment sarcastically touches on the absence of significant updates, such as a new \"Grand Theft Auto\" game, while another cryptically references a specific in-game item, \"No Land Beyond,\" indicating a longing for certain game features or nostalgia for past content.\n",
      "Reddit, on the other hand, displays a more engaged and speculative discussion. Users playfully list various in-game items and themes with \"Edge\" in their names, reflecting a community familiar with the Destiny universe's terminology. Some comments speculate about the possible connections to the lore, specifically mentioning the Nine, a mysterious faction within the game, and potential links to upcoming in-game events.\n",
      "Overall, YouTube comments lean towards a more critical stance, highlighting concerns over monetization and content longevity. In contrast, Reddit comments focus on the game's lore and in-game elements, reflecting a more invested and speculative community. This suggests that while some players remain cautious about the game's business practices, others are more interested in exploring its narrative and gameplay possibilities.\n",
      "\n",
      "\n",
      "Since there are only comments from YouTube available and no Reddit post was found, the analysis will focus on YouTube perceptions. The comments on YouTube exhibit a positive sentiment, with users expressing feelings of awe and spiritual upliftment after listening to Carrie Underwood's performance of \"How Great Thou Art\" on American Idol. Phrases such as \"To God be the Glory,\" \"Heavenly felt,\" and \"Amazing worship\" indicate that viewers were deeply moved and found the performance spiritually enriching. The consistent use of religious and worship-related language suggests that the audience perceived the performance as a powerful act of praise and worship.\n",
      "The absence of comments from Reddit means there is no contrasting opinion or sentiment trend to analyze between the two platforms. On YouTube, the sentiment is overwhelmingly positive, with a focus on the emotional and spiritual impact of the performance.\n",
      "\n",
      "\n",
      "The public perception of \"Zombies 4: Dawn of the Vampires\" shows a mix of excitement and humor with contrasting opinions between YouTube and Reddit audiences.\n",
      "On YouTube, the comments reflect a generally positive and enthusiastic sentiment. Fans express excitement about the release, showcasing a nostalgic connection to the franchise, as evidenced by comments from long-time fans and those eagerly anticipating the new movie, even humorously acknowledging the franchise's musical elements.\n",
      "In contrast, Reddit comments offer a more diverse range of opinions. While some users share a positive reception, particularly parents noting their children's enjoyment and the catchy nature of the songs, others express a more critical view. There's a notable comment lamenting an actress's career trajectory, indicating a perception that the movie is of lower quality. Additionally, a humorous comment unrelated to the movie content suggests a less engaged or more casual audience on this platform.\n",
      "Overall, YouTube comments tend to lean more towards excitement and nostalgia, while Reddit displays a mix of appreciation, criticism, and humor, reflecting a more balanced or critical audience.\n",
      "\n",
      "\n",
      "Based on the comments from both YouTube and Reddit, the public perception of \"Skibidi Toilet 78\" is overwhelmingly positive. On YouTube, comments reflect excitement and enthusiasm, with one user highlighting a specific moment in the video (\"the lockdown sound effect\") as particularly noteworthy, suggesting that viewers are engaged with the details and production elements of the episode. Another comment suggests that the content might not be suitable for children, indicating a possible shift in the target audience or tone of the series. Additionally, a viewer expressed that this could be the best episode they have seen, reinforcing the overall positive reception.\n",
      "Reddit comments mirror this enthusiasm, with one user describing the premiere experience as thrilling, noting that the chat went \"crazy,\" which implies a strong real-time engagement and excitement among viewers. Another user described the episode as the \"best 14 minutes\" of their life, further indicating that the episode was highly entertaining and impactful.\n",
      "Across both platforms, there is a consistent trend of excitement and high praise for \"Skibidi Toilet 78.\" There is no significant contrasting opinion between the platforms; instead, both YouTube and Reddit users seem to share a similarly positive sentiment towards the episode. The only slightly divergent opinion comes from the YouTube comment about the show's appropriateness for children, which may hint at a broader discussion about the episode's content and target audience.\n",
      "\n",
      "\n",
      "The public perception of \"Rick and Morty\" Season 8 appears to be mixed, with distinct sentiment trends emerging between YouTube and Reddit.\n",
      "On YouTube, the sentiment leans negative. Comments suggest that some viewers feel the show has declined in quality, with phrases like \"THEY RUINED IT\" and \"this looks really boring\" indicating dissatisfaction. There's also skepticism about the show's continuity and quality without Justin Roiland's involvement.\n",
      "In contrast, Reddit comments reflect a more nuanced and somewhat positive outlook. While some users acknowledge a decline in quality, they still find the show enjoyable. There's appreciation for specific episodes from recent seasons and a general acceptance of the new voice actors, with comments noting that the change in voice acting becomes less noticeable over time. One user even highlights a particular episode from the last season as a series favorite, suggesting that the show retains some of its charm.\n",
      "Overall, while YouTube comments predominantly express disappointment and skepticism, Reddit discussions show a more balanced view, recognizing both the show's shortcomings and its enduring appeal.\n",
      "\n",
      "\n",
      "The public perception surrounding the death of Pope Francis, as reflected in comments from YouTube and Reddit, shows a mix of sentiments and perspectives.\n",
      "On YouTube, the comments reflect a more critical and skeptical tone. Some users challenge the accuracy of facts, such as the number of cardinals eligible to vote in the conclave, and express disdain for Pope Francis, accusing him of harming the Catholic faith. There is also criticism directed at Cardinal Dolan, labeling him as a political figure rather than a religious leader.\n",
      "In contrast, the Reddit comments convey a more reflective and respectful tone. Users share personal feelings of loss and gratitude, expressing sadness over the Pope's passing but also joy for his return to God. The full text of Pope Francis' last will and testament is shared, suggesting a focus on his personal wishes and legacy. Reddit users seem to appreciate his writings and view his leadership as a source of comfort, with a sense of acceptance and faith in the future of the Church.\n",
      "Overall, YouTube comments tend to be more critical and politically charged, while Reddit comments are more introspective and appreciative of Pope Francis' contributions and spiritual guidance. This contrast highlights differing community cultures and engagement styles on the two platforms.\n",
      "\n",
      "\n",
      "The YouTube comments regarding the potential successor to Pope Francis reflect a mix of specific preferences and humorous takes. Some commenters express support for specific candidates such as Luis Antonio Tagle from the Philippines and Peter Turkson from Ghana, indicating a desire for a diverse or non-European Pope. A humorous comment about liberals wanting a trans Pope suggests some skepticism or mockery towards progressive agendas within the Church.\n",
      "On Reddit, the conversation is less about specific candidates and more focused on community guidelines, indicating a moderated environment for civil discussion. The subreddit appears to be a space for broader discussions on pop culture rather than focused debate on the papal succession. A comment expressing stress about the topic suggests that some users might find the topic overwhelming or contentious.\n",
      "In summary, YouTube comments reflect a mix of serious preferences for candidates and humorous or sarcastic remarks, highlighting diverse opinions on potential papal candidates. Conversely, Reddit maintains a structured, inclusive environment for discussion, though specific opinions on papal succession are less evident. The sentiment on YouTube leans towards humor and speculation, whereas Reddit emphasizes community guidelines and decorum.\n",
      "\n",
      "\n",
      "Summary:\n",
      "The public perception around the topic of \"Squad is IN DANGER! 😳 SquadVsMonsters\" is largely positive, with excitement and enthusiasm evident in YouTube comments. The comments are short and express excitement, with one user expressing affection with multiple heart emojis, and others expressing excitement or awe.\n",
      "On Reddit, the discussion shifts focus to the mainline series of a game, likely related to the video topic. The comments reflect a more nuanced analysis of various games in the series, with users sharing personal opinions about different installments. There is a clear appreciation for the series, but also acknowledgment of certain games' flaws or slower pacing. Notably, Final Fantasy XV receives criticism for its perceived missed potential despite being fun for some players.\n",
      "Sentiment Trends and Contrasting Opinions:\n",
      "- YouTube: The sentiment is overwhelmingly positive and simplistic, with users expressing excitement and anticipation without delving into detail. - Reddit: The sentiment is more mixed, with users providing detailed critiques and personal preferences about the game series. There is both appreciation and frustration expressed, particularly with how some games are perceived as not reaching their full potential.\n",
      "Overall, YouTube comments are more about immediate emotional reactions, while Reddit comments offer thoughtful critiques and personal experiences.\n",
      "\n",
      "\n"
     ]
    }
   ],
   "source": [
    "for llm_analysis in llm_df['llm_clean_analysis']:\n",
    "    print(llm_analysis, end=\"\\n\\n\\n\")"
   ]
  },
  {
   "cell_type": "markdown",
   "metadata": {
    "id": "9_q3L_YJn8my"
   },
   "source": [
    "## Saving to csv"
   ]
  },
  {
   "cell_type": "code",
   "execution_count": 39,
   "metadata": {
    "executionInfo": {
     "elapsed": 8,
     "status": "ok",
     "timestamp": 1745093675921,
     "user": {
      "displayName": "Revanth Shahukaru",
      "userId": "15386280149867855082"
     },
     "user_tz": 240
    },
    "id": "keERrZ5DmpF6"
   },
   "outputs": [],
   "source": [
    "llm_df.to_csv(\"../data/llm_insights.csv\", index=False)"
   ]
  }
 ],
 "metadata": {
  "colab": {
   "authorship_tag": "ABX9TyOGBZGNFPIwevnKgwcfdsNa",
   "mount_file_id": "1h39CILLAbPv0bxvU5nh-URmQbatgELqR",
   "provenance": []
  },
  "kernelspec": {
   "display_name": "venv",
   "language": "python",
   "name": "python3"
  },
  "language_info": {
   "codemirror_mode": {
    "name": "ipython",
    "version": 3
   },
   "file_extension": ".py",
   "mimetype": "text/x-python",
   "name": "python",
   "nbconvert_exporter": "python",
   "pygments_lexer": "ipython3",
   "version": "3.12.1"
  }
 },
 "nbformat": 4,
 "nbformat_minor": 0
}
