{
 "cells": [
  {
   "cell_type": "markdown",
   "metadata": {
    "id": "s8hhTjgoM5T8"
   },
   "source": [
    "## Getting API Keys"
   ]
  },
  {
   "cell_type": "code",
   "execution_count": 1,
   "metadata": {
    "colab": {
     "base_uri": "https://localhost:8080/"
    },
    "executionInfo": {
     "elapsed": 8085,
     "status": "ok",
     "timestamp": 1745091181861,
     "user": {
      "displayName": "Revanth Shahukaru",
      "userId": "15386280149867855082"
     },
     "user_tz": 240
    },
    "id": "OJqMmT9uGCIf",
    "outputId": "ca681cea-a347-4abc-907d-b6f6d1448211"
   },
   "outputs": [],
   "source": [
    "from dotenv import load_dotenv\n",
    "import os\n",
    "\n",
    "load_dotenv()\n",
    "\n",
    "YT_KEY = os.getenv(\"YOUTUBE_API_KEY\")"
   ]
  },
  {
   "cell_type": "markdown",
   "metadata": {
    "id": "GwUMHtiWQtiV"
   },
   "source": [
    "## Importing Necessary Libraries"
   ]
  },
  {
   "cell_type": "code",
   "execution_count": 2,
   "metadata": {
    "id": "ggoJGTi9Qt61"
   },
   "outputs": [],
   "source": [
    "from googleapiclient.discovery import build\n",
    "from googleapiclient.errors import HttpError\n",
    "from youtube_transcript_api import YouTubeTranscriptApi\n",
    "from vaderSentiment.vaderSentiment import SentimentIntensityAnalyzer\n",
    "import pandas as pd"
   ]
  },
  {
   "cell_type": "markdown",
   "metadata": {
    "id": "s6FUy-S_NGM1"
   },
   "source": [
    "## 🔑 Authenticate with YouTube Data API v3"
   ]
  },
  {
   "cell_type": "code",
   "execution_count": 3,
   "metadata": {
    "id": "XlQ5x_PoM0QK"
   },
   "outputs": [],
   "source": [
    "YOUTUBE_API_KEY = YT_KEY\n",
    "youtube = build('youtube', 'v3', developerKey=YOUTUBE_API_KEY)\n",
    "analyzer = SentimentIntensityAnalyzer()"
   ]
  },
  {
   "cell_type": "markdown",
   "metadata": {
    "id": "u2cvU5x7NMZZ"
   },
   "source": [
    "## 🔥 Get Trending Videos (from YouTube)"
   ]
  },
  {
   "cell_type": "code",
   "execution_count": 4,
   "metadata": {
    "id": "PwgMs048M0UD"
   },
   "outputs": [],
   "source": [
    "def get_trending_videos(region_code='US', max_results=50):\n",
    "    request = youtube.videos().list(\n",
    "        part=\"snippet,statistics\",\n",
    "        chart=\"mostPopular\",\n",
    "        regionCode=region_code,\n",
    "        maxResults=max_results\n",
    "    )\n",
    "    response = request.execute()\n",
    "    videos = [{\n",
    "        'video_id': item['id'],\n",
    "        'title': item['snippet']['title'],\n",
    "        'channel': item['snippet']['channelTitle'],\n",
    "        'description': item['snippet']['description']\n",
    "    } for item in response['items']]\n",
    "    return videos"
   ]
  },
  {
   "cell_type": "markdown",
   "metadata": {
    "id": "Rz0U9ZS3NP6x"
   },
   "source": [
    "## 🧠 Extract Transcripts"
   ]
  },
  {
   "cell_type": "code",
   "execution_count": 5,
   "metadata": {
    "id": "Df2hr3TwM0YI"
   },
   "outputs": [],
   "source": [
    "def get_transcript(video_id):\n",
    "    try:\n",
    "        transcript = YouTubeTranscriptApi.get_transcript(video_id)\n",
    "        return ' '.join([entry['text'] for entry in transcript])\n",
    "    except:\n",
    "        return \"\""
   ]
  },
  {
   "cell_type": "markdown",
   "metadata": {
    "id": "T-z4kSDANUtB"
   },
   "source": [
    "## 💬 Fetch Comments"
   ]
  },
  {
   "cell_type": "code",
   "execution_count": 6,
   "metadata": {
    "id": "cMte8ALGM0cQ"
   },
   "outputs": [],
   "source": [
    "def get_comments(video_id, max_comments=5):\n",
    "    try:\n",
    "        request = youtube.commentThreads().list(\n",
    "            part=\"snippet\",\n",
    "            videoId=video_id,\n",
    "            maxResults=max_comments,\n",
    "            textFormat=\"plainText\"\n",
    "        )\n",
    "        response = request.execute()\n",
    "        if 'items' in response:\n",
    "            return [item['snippet']['topLevelComment']['snippet']['textDisplay'] for item in response['items']]\n",
    "        else:\n",
    "            return []\n",
    "    except HttpError as e:\n",
    "        if e.resp.status == 403:\n",
    "            print(f\"🚫 Comments disabled for video: {video_id}\")\n",
    "        else:\n",
    "            print(f\"⚠️ Error for video {video_id}: {e}\")\n",
    "        return []"
   ]
  },
  {
   "cell_type": "markdown",
   "metadata": {
    "id": "GrHWBxkENcaN"
   },
   "source": [
    "## 🧪 Put It Together"
   ]
  },
  {
   "cell_type": "code",
   "execution_count": 7,
   "metadata": {
    "colab": {
     "base_uri": "https://localhost:8080/"
    },
    "executionInfo": {
     "elapsed": 11314,
     "status": "ok",
     "timestamp": 1745091194361,
     "user": {
      "displayName": "Revanth Shahukaru",
      "userId": "15386280149867855082"
     },
     "user_tz": 240
    },
    "id": "9yGQe24UM0k_",
    "outputId": "daf56de6-2c5c-4d9a-bd0e-875768a37a75"
   },
   "outputs": [
    {
     "name": "stdout",
     "output_type": "stream",
     "text": [
      "✅ Finished collecting data.\n",
      "CPU times: user 342 ms, sys: 43.1 ms, total: 385 ms\n",
      "Wall time: 11.5 s\n"
     ]
    }
   ],
   "source": [
    "%%time\n",
    "desired_video_count = 15\n",
    "collected = 0\n",
    "data = []\n",
    "\n",
    "all_videos = get_trending_videos(max_results=50)\n",
    "\n",
    "for vid in all_videos:\n",
    "    if collected >= desired_video_count:\n",
    "        break\n",
    "\n",
    "    video_id = vid['video_id']\n",
    "    comments = get_comments(video_id, max_comments=50)\n",
    "\n",
    "    if not comments:\n",
    "        continue  # Skip video\" if no usable comments\n",
    "\n",
    "    transcript = get_transcript(video_id)\n",
    "    transcript_sentiment = analyzer.polarity_scores(transcript)['compound']\n",
    "\n",
    "    video_url = f\"https://www.youtube.com/watch?v={video_id}\"\n",
    "\n",
    "    for comment in comments:\n",
    "        data.append({\n",
    "            'video_title': vid['title'],\n",
    "            'channel': vid['channel'],\n",
    "            'comment': comment,\n",
    "            'comment_sentiment': analyzer.polarity_scores(comment)['compound'],\n",
    "            'transcript_sentiment': transcript_sentiment,\n",
    "            'video_url': video_url  # ✅ added here\n",
    "        })\n",
    "\n",
    "    collected += 1\n",
    "\n",
    "df = pd.DataFrame(data)\n",
    "df.to_csv(\"../data/youtube_data.csv\", index=False)\n",
    "print(\"✅ Finished collecting data.\")\n"
   ]
  },
  {
   "cell_type": "code",
   "execution_count": 8,
   "metadata": {
    "colab": {
     "base_uri": "https://localhost:8080/",
     "height": 380
    },
    "executionInfo": {
     "elapsed": 14,
     "status": "ok",
     "timestamp": 1745091194362,
     "user": {
      "displayName": "Revanth Shahukaru",
      "userId": "15386280149867855082"
     },
     "user_tz": 240
    },
    "id": "7uDuyj-_PEPA",
    "outputId": "086160bf-b5a9-4b39-9793-d2ca30c525bd"
   },
   "outputs": [
    {
     "data": {
      "text/html": [
       "<div>\n",
       "<style scoped>\n",
       "    .dataframe tbody tr th:only-of-type {\n",
       "        vertical-align: middle;\n",
       "    }\n",
       "\n",
       "    .dataframe tbody tr th {\n",
       "        vertical-align: top;\n",
       "    }\n",
       "\n",
       "    .dataframe thead th {\n",
       "        text-align: right;\n",
       "    }\n",
       "</style>\n",
       "<table border=\"1\" class=\"dataframe\">\n",
       "  <thead>\n",
       "    <tr style=\"text-align: right;\">\n",
       "      <th></th>\n",
       "      <th>video_title</th>\n",
       "      <th>channel</th>\n",
       "      <th>comment</th>\n",
       "      <th>comment_sentiment</th>\n",
       "      <th>transcript_sentiment</th>\n",
       "      <th>video_url</th>\n",
       "    </tr>\n",
       "  </thead>\n",
       "  <tbody>\n",
       "    <tr>\n",
       "      <th>735</th>\n",
       "      <td>Update On Willow. She’s Been Struggling!</td>\n",
       "      <td>Kristi Cates</td>\n",
       "      <td>Stay strong willow.  ❤ to you</td>\n",
       "      <td>0.8176</td>\n",
       "      <td>0.0</td>\n",
       "      <td>https://www.youtube.com/watch?v=yubV23utfEA</td>\n",
       "    </tr>\n",
       "    <tr>\n",
       "      <th>736</th>\n",
       "      <td>Update On Willow. She’s Been Struggling!</td>\n",
       "      <td>Kristi Cates</td>\n",
       "      <td>Because I don't have to be able to get it to t...</td>\n",
       "      <td>0.0000</td>\n",
       "      <td>0.0</td>\n",
       "      <td>https://www.youtube.com/watch?v=yubV23utfEA</td>\n",
       "    </tr>\n",
       "    <tr>\n",
       "      <th>737</th>\n",
       "      <td>Update On Willow. She’s Been Struggling!</td>\n",
       "      <td>Kristi Cates</td>\n",
       "      <td>Sweet willow prayers for you and woman.</td>\n",
       "      <td>0.4588</td>\n",
       "      <td>0.0</td>\n",
       "      <td>https://www.youtube.com/watch?v=yubV23utfEA</td>\n",
       "    </tr>\n",
       "    <tr>\n",
       "      <th>738</th>\n",
       "      <td>Update On Willow. She’s Been Struggling!</td>\n",
       "      <td>Kristi Cates</td>\n",
       "      <td>I am praying for Willow. Please give her a hug...</td>\n",
       "      <td>0.9712</td>\n",
       "      <td>0.0</td>\n",
       "      <td>https://www.youtube.com/watch?v=yubV23utfEA</td>\n",
       "    </tr>\n",
       "    <tr>\n",
       "      <th>739</th>\n",
       "      <td>Update On Willow. She’s Been Struggling!</td>\n",
       "      <td>Kristi Cates</td>\n",
       "      <td>🙏🏾🙏🏾🙏🏾🙏🏾 Lord please help Willow. I am going t...</td>\n",
       "      <td>0.8957</td>\n",
       "      <td>0.0</td>\n",
       "      <td>https://www.youtube.com/watch?v=yubV23utfEA</td>\n",
       "    </tr>\n",
       "    <tr>\n",
       "      <th>740</th>\n",
       "      <td>Update On Willow. She’s Been Struggling!</td>\n",
       "      <td>Kristi Cates</td>\n",
       "      <td>poor Willow!  Hang in there Kristi.  We know h...</td>\n",
       "      <td>0.6740</td>\n",
       "      <td>0.0</td>\n",
       "      <td>https://www.youtube.com/watch?v=yubV23utfEA</td>\n",
       "    </tr>\n",
       "    <tr>\n",
       "      <th>741</th>\n",
       "      <td>Update On Willow. She’s Been Struggling!</td>\n",
       "      <td>Kristi Cates</td>\n",
       "      <td>WILLOW b Google be lying</td>\n",
       "      <td>-0.5267</td>\n",
       "      <td>0.0</td>\n",
       "      <td>https://www.youtube.com/watch?v=yubV23utfEA</td>\n",
       "    </tr>\n",
       "    <tr>\n",
       "      <th>742</th>\n",
       "      <td>Update On Willow. She’s Been Struggling!</td>\n",
       "      <td>Kristi Cates</td>\n",
       "      <td>OMG I'm crying. I love Willow.</td>\n",
       "      <td>0.2732</td>\n",
       "      <td>0.0</td>\n",
       "      <td>https://www.youtube.com/watch?v=yubV23utfEA</td>\n",
       "    </tr>\n",
       "    <tr>\n",
       "      <th>743</th>\n",
       "      <td>Update On Willow. She’s Been Struggling!</td>\n",
       "      <td>Kristi Cates</td>\n",
       "      <td>You got this Queen Willow. I'm praying for you.❤</td>\n",
       "      <td>0.7717</td>\n",
       "      <td>0.0</td>\n",
       "      <td>https://www.youtube.com/watch?v=yubV23utfEA</td>\n",
       "    </tr>\n",
       "    <tr>\n",
       "      <th>744</th>\n",
       "      <td>Update On Willow. She’s Been Struggling!</td>\n",
       "      <td>Kristi Cates</td>\n",
       "      <td>Oh please god no! I can’t lose sweet Willow!!!...</td>\n",
       "      <td>0.9094</td>\n",
       "      <td>0.0</td>\n",
       "      <td>https://www.youtube.com/watch?v=yubV23utfEA</td>\n",
       "    </tr>\n",
       "    <tr>\n",
       "      <th>745</th>\n",
       "      <td>Update On Willow. She’s Been Struggling!</td>\n",
       "      <td>Kristi Cates</td>\n",
       "      <td>Is her name willow cleopatra Vera Ann …… I for...</td>\n",
       "      <td>0.0000</td>\n",
       "      <td>0.0</td>\n",
       "      <td>https://www.youtube.com/watch?v=yubV23utfEA</td>\n",
       "    </tr>\n",
       "    <tr>\n",
       "      <th>746</th>\n",
       "      <td>Update On Willow. She’s Been Struggling!</td>\n",
       "      <td>Kristi Cates</td>\n",
       "      <td>Prayers for Willow ,please heal her and make h...</td>\n",
       "      <td>0.7089</td>\n",
       "      <td>0.0</td>\n",
       "      <td>https://www.youtube.com/watch?v=yubV23utfEA</td>\n",
       "    </tr>\n",
       "    <tr>\n",
       "      <th>747</th>\n",
       "      <td>Update On Willow. She’s Been Struggling!</td>\n",
       "      <td>Kristi Cates</td>\n",
       "      <td>😢🥺🥺🥺 POOR WILLOW!!! WE ❤ YOU BABY GIRL 😇\\n\\n I...</td>\n",
       "      <td>0.9983</td>\n",
       "      <td>0.0</td>\n",
       "      <td>https://www.youtube.com/watch?v=yubV23utfEA</td>\n",
       "    </tr>\n",
       "    <tr>\n",
       "      <th>748</th>\n",
       "      <td>Update On Willow. She’s Been Struggling!</td>\n",
       "      <td>Kristi Cates</td>\n",
       "      <td>Praying for you Willow. I had a Cat with Asthm...</td>\n",
       "      <td>-0.0900</td>\n",
       "      <td>0.0</td>\n",
       "      <td>https://www.youtube.com/watch?v=yubV23utfEA</td>\n",
       "    </tr>\n",
       "    <tr>\n",
       "      <th>749</th>\n",
       "      <td>Update On Willow. She’s Been Struggling!</td>\n",
       "      <td>Kristi Cates</td>\n",
       "      <td>😿😿🙏😿🙏 praying for willow🙏🙏😿</td>\n",
       "      <td>-0.8720</td>\n",
       "      <td>0.0</td>\n",
       "      <td>https://www.youtube.com/watch?v=yubV23utfEA</td>\n",
       "    </tr>\n",
       "  </tbody>\n",
       "</table>\n",
       "</div>"
      ],
      "text/plain": [
       "                                  video_title       channel  \\\n",
       "735  Update On Willow. She’s Been Struggling!  Kristi Cates   \n",
       "736  Update On Willow. She’s Been Struggling!  Kristi Cates   \n",
       "737  Update On Willow. She’s Been Struggling!  Kristi Cates   \n",
       "738  Update On Willow. She’s Been Struggling!  Kristi Cates   \n",
       "739  Update On Willow. She’s Been Struggling!  Kristi Cates   \n",
       "740  Update On Willow. She’s Been Struggling!  Kristi Cates   \n",
       "741  Update On Willow. She’s Been Struggling!  Kristi Cates   \n",
       "742  Update On Willow. She’s Been Struggling!  Kristi Cates   \n",
       "743  Update On Willow. She’s Been Struggling!  Kristi Cates   \n",
       "744  Update On Willow. She’s Been Struggling!  Kristi Cates   \n",
       "745  Update On Willow. She’s Been Struggling!  Kristi Cates   \n",
       "746  Update On Willow. She’s Been Struggling!  Kristi Cates   \n",
       "747  Update On Willow. She’s Been Struggling!  Kristi Cates   \n",
       "748  Update On Willow. She’s Been Struggling!  Kristi Cates   \n",
       "749  Update On Willow. She’s Been Struggling!  Kristi Cates   \n",
       "\n",
       "                                               comment  comment_sentiment  \\\n",
       "735                      Stay strong willow.  ❤ to you             0.8176   \n",
       "736  Because I don't have to be able to get it to t...             0.0000   \n",
       "737            Sweet willow prayers for you and woman.             0.4588   \n",
       "738  I am praying for Willow. Please give her a hug...             0.9712   \n",
       "739  🙏🏾🙏🏾🙏🏾🙏🏾 Lord please help Willow. I am going t...             0.8957   \n",
       "740  poor Willow!  Hang in there Kristi.  We know h...             0.6740   \n",
       "741                           WILLOW b Google be lying            -0.5267   \n",
       "742                     OMG I'm crying. I love Willow.             0.2732   \n",
       "743   You got this Queen Willow. I'm praying for you.❤             0.7717   \n",
       "744  Oh please god no! I can’t lose sweet Willow!!!...             0.9094   \n",
       "745  Is her name willow cleopatra Vera Ann …… I for...             0.0000   \n",
       "746  Prayers for Willow ,please heal her and make h...             0.7089   \n",
       "747  😢🥺🥺🥺 POOR WILLOW!!! WE ❤ YOU BABY GIRL 😇\\n\\n I...             0.9983   \n",
       "748  Praying for you Willow. I had a Cat with Asthm...            -0.0900   \n",
       "749                        😿😿🙏😿🙏 praying for willow🙏🙏😿            -0.8720   \n",
       "\n",
       "     transcript_sentiment                                    video_url  \n",
       "735                   0.0  https://www.youtube.com/watch?v=yubV23utfEA  \n",
       "736                   0.0  https://www.youtube.com/watch?v=yubV23utfEA  \n",
       "737                   0.0  https://www.youtube.com/watch?v=yubV23utfEA  \n",
       "738                   0.0  https://www.youtube.com/watch?v=yubV23utfEA  \n",
       "739                   0.0  https://www.youtube.com/watch?v=yubV23utfEA  \n",
       "740                   0.0  https://www.youtube.com/watch?v=yubV23utfEA  \n",
       "741                   0.0  https://www.youtube.com/watch?v=yubV23utfEA  \n",
       "742                   0.0  https://www.youtube.com/watch?v=yubV23utfEA  \n",
       "743                   0.0  https://www.youtube.com/watch?v=yubV23utfEA  \n",
       "744                   0.0  https://www.youtube.com/watch?v=yubV23utfEA  \n",
       "745                   0.0  https://www.youtube.com/watch?v=yubV23utfEA  \n",
       "746                   0.0  https://www.youtube.com/watch?v=yubV23utfEA  \n",
       "747                   0.0  https://www.youtube.com/watch?v=yubV23utfEA  \n",
       "748                   0.0  https://www.youtube.com/watch?v=yubV23utfEA  \n",
       "749                   0.0  https://www.youtube.com/watch?v=yubV23utfEA  "
      ]
     },
     "execution_count": 8,
     "metadata": {},
     "output_type": "execute_result"
    }
   ],
   "source": [
    "df.tail(15)"
   ]
  },
  {
   "cell_type": "code",
   "execution_count": 9,
   "metadata": {
    "colab": {
     "base_uri": "https://localhost:8080/"
    },
    "executionInfo": {
     "elapsed": 19,
     "status": "ok",
     "timestamp": 1745091194380,
     "user": {
      "displayName": "Revanth Shahukaru",
      "userId": "15386280149867855082"
     },
     "user_tz": 240
    },
    "id": "YSqXP-i6PEHT",
    "outputId": "c835739d-6f9a-47db-c7ea-ed8940bb713d"
   },
   "outputs": [
    {
     "name": "stdout",
     "output_type": "stream",
     "text": [
      "<class 'pandas.core.frame.DataFrame'>\n",
      "RangeIndex: 750 entries, 0 to 749\n",
      "Data columns (total 6 columns):\n",
      " #   Column                Non-Null Count  Dtype  \n",
      "---  ------                --------------  -----  \n",
      " 0   video_title           750 non-null    object \n",
      " 1   channel               750 non-null    object \n",
      " 2   comment               750 non-null    object \n",
      " 3   comment_sentiment     750 non-null    float64\n",
      " 4   transcript_sentiment  750 non-null    float64\n",
      " 5   video_url             750 non-null    object \n",
      "dtypes: float64(2), object(4)\n",
      "memory usage: 35.3+ KB\n"
     ]
    }
   ],
   "source": [
    "df.info()"
   ]
  },
  {
   "cell_type": "code",
   "execution_count": 10,
   "metadata": {
    "colab": {
     "base_uri": "https://localhost:8080/",
     "height": 272
    },
    "executionInfo": {
     "elapsed": 3,
     "status": "ok",
     "timestamp": 1745091194382,
     "user": {
      "displayName": "Revanth Shahukaru",
      "userId": "15386280149867855082"
     },
     "user_tz": 240
    },
    "id": "Nvo_h0FTPEDN",
    "outputId": "c03983ae-d236-4287-dba2-98a2784256ad"
   },
   "outputs": [
    {
     "data": {
      "text/plain": [
       "video_title\n",
       "FULL SEGMENT: Randy Orton ROCKS John Cena with the RKO: Raw highlights, April 21, 2025    50\n",
       "Can We Beat Josh Allen & Jon Rahm in a Golf Match?                                        50\n",
       "Carrie Underwood Praises with \"How Great Thou Art!\" | American Idol                       50\n",
       "skibidi toilet 78                                                                         50\n",
       "Cardinal Dolan on significance of Pope Francis dying after Easter                         50\n",
       "Who could replace Pope Francis? Experts explain what could happen next                    50\n",
       "Weapons | Teaser                                                                          50\n",
       "Cleetus Gets a Talladega Masterclass from Dale Jr.                                        50\n",
       "Original Movies in 2025: Oops, All Flops!                                                 50\n",
       "NHL Highlights | Oilers vs. Kings | Gm 1 | April 21, 2025                                 50\n",
       "Possible candidates to become Pope have already been discussed | 9 News Australia         50\n",
       "60 Wasabi Powers + 32 Skins + 3 Buffs! | Update Info                                      50\n",
       "The Last Of Us - Well, They Really Did It                                                 50\n",
       "Morgan Wallen - I’m The Problem (The Shop Sessions)                                       50\n",
       "Update On Willow. She’s Been Struggling!                                                  50\n",
       "Name: count, dtype: int64"
      ]
     },
     "execution_count": 10,
     "metadata": {},
     "output_type": "execute_result"
    }
   ],
   "source": [
    "df[\"video_title\"].value_counts()"
   ]
  },
  {
   "cell_type": "markdown",
   "metadata": {
    "id": "aCEzQQ6sW-_O"
   },
   "source": [
    "## 💾 Save to CSV"
   ]
  },
  {
   "cell_type": "code",
   "execution_count": 33,
   "metadata": {
    "id": "oCFgiIqNW8Ne"
   },
   "outputs": [],
   "source": [
    "df.to_csv(\"../data/youtube_data.csv\", index=False)"
   ]
  }
 ],
 "metadata": {
  "colab": {
   "provenance": []
  },
  "kernelspec": {
   "display_name": "venv",
   "language": "python",
   "name": "python3"
  },
  "language_info": {
   "codemirror_mode": {
    "name": "ipython",
    "version": 3
   },
   "file_extension": ".py",
   "mimetype": "text/x-python",
   "name": "python",
   "nbconvert_exporter": "python",
   "pygments_lexer": "ipython3",
   "version": "3.12.1"
  }
 },
 "nbformat": 4,
 "nbformat_minor": 0
}
