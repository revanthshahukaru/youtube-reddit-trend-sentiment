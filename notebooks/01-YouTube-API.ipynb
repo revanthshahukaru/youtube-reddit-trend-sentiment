{
 "cells": [
  {
   "cell_type": "markdown",
   "metadata": {
    "id": "s8hhTjgoM5T8"
   },
   "source": [
    "## Getting API Keys"
   ]
  },
  {
   "cell_type": "code",
   "execution_count": 1,
   "metadata": {
    "colab": {
     "base_uri": "https://localhost:8080/"
    },
    "executionInfo": {
     "elapsed": 8085,
     "status": "ok",
     "timestamp": 1745091181861,
     "user": {
      "displayName": "Revanth Shahukaru",
      "userId": "15386280149867855082"
     },
     "user_tz": 240
    },
    "id": "OJqMmT9uGCIf",
    "outputId": "ca681cea-a347-4abc-907d-b6f6d1448211"
   },
   "outputs": [],
   "source": [
    "from dotenv import load_dotenv\n",
    "import os\n",
    "\n",
    "load_dotenv()\n",
    "\n",
    "YT_KEY = os.getenv(\"YOUTUBE_API_KEY\")"
   ]
  },
  {
   "cell_type": "markdown",
   "metadata": {
    "id": "GwUMHtiWQtiV"
   },
   "source": [
    "## Importing Necessary Libraries"
   ]
  },
  {
   "cell_type": "code",
   "execution_count": 2,
   "metadata": {
    "id": "ggoJGTi9Qt61"
   },
   "outputs": [],
   "source": [
    "from googleapiclient.discovery import build\n",
    "from googleapiclient.errors import HttpError\n",
    "from vaderSentiment.vaderSentiment import SentimentIntensityAnalyzer\n",
    "import pandas as pd"
   ]
  },
  {
   "cell_type": "markdown",
   "metadata": {
    "id": "s6FUy-S_NGM1"
   },
   "source": [
    "## 🔑 Authenticate with YouTube Data API v3"
   ]
  },
  {
   "cell_type": "code",
   "execution_count": 3,
   "metadata": {
    "id": "XlQ5x_PoM0QK"
   },
   "outputs": [],
   "source": [
    "YOUTUBE_API_KEY = YT_KEY\n",
    "youtube = build('youtube', 'v3', developerKey=YOUTUBE_API_KEY)\n",
    "analyzer = SentimentIntensityAnalyzer()"
   ]
  },
  {
   "cell_type": "markdown",
   "metadata": {
    "id": "u2cvU5x7NMZZ"
   },
   "source": [
    "## 🔥 Get Trending Videos (from YouTube)"
   ]
  },
  {
   "cell_type": "code",
   "execution_count": 4,
   "metadata": {
    "id": "PwgMs048M0UD"
   },
   "outputs": [],
   "source": [
    "def get_trending_videos(region_code='US', max_results=50):\n",
    "    request = youtube.videos().list(\n",
    "        part=\"snippet,statistics\",\n",
    "        chart=\"mostPopular\",\n",
    "        regionCode=region_code,\n",
    "        maxResults=max_results\n",
    "    )\n",
    "    response = request.execute()\n",
    "    videos = [{\n",
    "        'video_id': item['id'],\n",
    "        'title': item['snippet']['title'],\n",
    "        'channel': item['snippet']['channelTitle'],\n",
    "        'description': item['snippet']['description']\n",
    "    } for item in response['items']]\n",
    "    return videos"
   ]
  },
  {
   "cell_type": "markdown",
   "metadata": {
    "id": "T-z4kSDANUtB"
   },
   "source": [
    "## 💬 Fetch Comments"
   ]
  },
  {
   "cell_type": "code",
   "execution_count": 5,
   "metadata": {
    "id": "cMte8ALGM0cQ"
   },
   "outputs": [],
   "source": [
    "def get_comments(video_id, max_comments=5):\n",
    "    try:\n",
    "        request = youtube.commentThreads().list(\n",
    "            part=\"snippet\",\n",
    "            videoId=video_id,\n",
    "            maxResults=max_comments,\n",
    "            textFormat=\"plainText\"\n",
    "        )\n",
    "        response = request.execute()\n",
    "        if 'items' in response:\n",
    "            return [item['snippet']['topLevelComment']['snippet']['textDisplay'] for item in response['items']]\n",
    "        else:\n",
    "            return []\n",
    "    except HttpError as e:\n",
    "        if e.resp.status == 403:\n",
    "            print(f\"🚫 Comments disabled for video: {video_id}\")\n",
    "        else:\n",
    "            print(f\"⚠️ Error for video {video_id}: {e}\")\n",
    "        return []"
   ]
  },
  {
   "cell_type": "markdown",
   "metadata": {
    "id": "GrHWBxkENcaN"
   },
   "source": [
    "## 🧪 Put It Together - Included Sentiment Polarity Score per comment"
   ]
  },
  {
   "cell_type": "code",
   "execution_count": null,
   "metadata": {
    "colab": {
     "base_uri": "https://localhost:8080/"
    },
    "executionInfo": {
     "elapsed": 11314,
     "status": "ok",
     "timestamp": 1745091194361,
     "user": {
      "displayName": "Revanth Shahukaru",
      "userId": "15386280149867855082"
     },
     "user_tz": 240
    },
    "id": "9yGQe24UM0k_",
    "outputId": "daf56de6-2c5c-4d9a-bd0e-875768a37a75"
   },
   "outputs": [
    {
     "name": "stdout",
     "output_type": "stream",
     "text": [
      "✅ Finished collecting data.\n",
      "CPU times: user 109 ms, sys: 13.2 ms, total: 122 ms\n",
      "Wall time: 1.92 s\n"
     ]
    }
   ],
   "source": [
    "%%time\n",
    "desired_video_count = 15\n",
    "collected = 0\n",
    "data = []\n",
    "\n",
    "all_videos = get_trending_videos(max_results=50)\n",
    "\n",
    "for vid in all_videos:\n",
    "    if collected >= desired_video_count:\n",
    "        break\n",
    "\n",
    "    video_id = vid['video_id']\n",
    "    comments = get_comments(video_id, max_comments=50)\n",
    "\n",
    "    if not comments:\n",
    "        continue  # Skip video\" if no usable comments\n",
    "    \n",
    "    video_url = f\"https://www.youtube.com/watch?v={video_id}\"\n",
    "\n",
    "    for comment in comments:\n",
    "        data.append({\n",
    "            'video_title': vid['title'],\n",
    "            'channel': vid['channel'],\n",
    "            'comment': comment,\n",
    "\n",
    "            # SENTIMENT POLARITY SCORE\n",
    "            'comment_sentiment': analyzer.polarity_scores(comment)['compound'],\n",
    "            'video_url': video_url\n",
    "        })\n",
    "\n",
    "    collected += 1\n",
    "\n",
    "df = pd.DataFrame(data)\n",
    "df.to_csv(\"../data/youtube_data.csv\", index=False)\n",
    "print(\"✅ Finished collecting data.\")\n"
   ]
  },
  {
   "cell_type": "markdown",
   "metadata": {},
   "source": [
    "### This is how our `semi-structured` data looks"
   ]
  },
  {
   "cell_type": "code",
   "execution_count": null,
   "metadata": {},
   "outputs": [
    {
     "data": {
      "text/plain": [
       "[{'video_title': 'The Elder Scrolls IV: Oblivion Remastered - Full Reveal Stream',\n",
       "  'channel': 'Bethesda Softworks',\n",
       "  'comment': 'Came for the thumbnail, stayed for the vibes',\n",
       "  'comment_sentiment': 0.0,\n",
       "  'video_url': 'https://www.youtube.com/watch?v=Ed_E2crglcw'},\n",
       " {'video_title': 'The Elder Scrolls IV: Oblivion Remastered - Full Reveal Stream',\n",
       "  'channel': 'Bethesda Softworks',\n",
       "  'comment': 'That part at 2:45 Instant goosebumps',\n",
       "  'comment_sentiment': 0.0,\n",
       "  'video_url': 'https://www.youtube.com/watch?v=Ed_E2crglcw'},\n",
       " {'video_title': 'The Elder Scrolls IV: Oblivion Remastered - Full Reveal Stream',\n",
       "  'channel': 'Bethesda Softworks',\n",
       "  'comment': 'I guess Bethesda realized they should stop re releasing Skyrim, and picked a new champion. I wonder how many times Oblivion will be re released and re packaged over the next decade.',\n",
       "  'comment_sentiment': 0.4019,\n",
       "  'video_url': 'https://www.youtube.com/watch?v=Ed_E2crglcw'},\n",
       " {'video_title': 'The Elder Scrolls IV: Oblivion Remastered - Full Reveal Stream',\n",
       "  'channel': 'Bethesda Softworks',\n",
       "  'comment': 'Came for the thumbnail, stayed for the vibes',\n",
       "  'comment_sentiment': 0.0,\n",
       "  'video_url': 'https://www.youtube.com/watch?v=Ed_E2crglcw'},\n",
       " {'video_title': 'The Elder Scrolls IV: Oblivion Remastered - Full Reveal Stream',\n",
       "  'channel': 'Bethesda Softworks',\n",
       "  'comment': 'You just earned a new subscriber',\n",
       "  'comment_sentiment': 0.0,\n",
       "  'video_url': 'https://www.youtube.com/watch?v=Ed_E2crglcw'}]"
      ]
     },
     "execution_count": 9,
     "metadata": {},
     "output_type": "execute_result"
    }
   ],
   "source": [
    "data[:5] # Data is in a dictionary / json format"
   ]
  },
  {
   "cell_type": "markdown",
   "metadata": {},
   "source": [
    "### This is how it looks as `structured data`"
   ]
  },
  {
   "cell_type": "code",
   "execution_count": 7,
   "metadata": {
    "colab": {
     "base_uri": "https://localhost:8080/",
     "height": 380
    },
    "executionInfo": {
     "elapsed": 14,
     "status": "ok",
     "timestamp": 1745091194362,
     "user": {
      "displayName": "Revanth Shahukaru",
      "userId": "15386280149867855082"
     },
     "user_tz": 240
    },
    "id": "7uDuyj-_PEPA",
    "outputId": "086160bf-b5a9-4b39-9793-d2ca30c525bd"
   },
   "outputs": [
    {
     "data": {
      "text/html": [
       "<div>\n",
       "<style scoped>\n",
       "    .dataframe tbody tr th:only-of-type {\n",
       "        vertical-align: middle;\n",
       "    }\n",
       "\n",
       "    .dataframe tbody tr th {\n",
       "        vertical-align: top;\n",
       "    }\n",
       "\n",
       "    .dataframe thead th {\n",
       "        text-align: right;\n",
       "    }\n",
       "</style>\n",
       "<table border=\"1\" class=\"dataframe\">\n",
       "  <thead>\n",
       "    <tr style=\"text-align: right;\">\n",
       "      <th></th>\n",
       "      <th>video_title</th>\n",
       "      <th>channel</th>\n",
       "      <th>comment</th>\n",
       "      <th>comment_sentiment</th>\n",
       "      <th>video_url</th>\n",
       "    </tr>\n",
       "  </thead>\n",
       "  <tbody>\n",
       "    <tr>\n",
       "      <th>734</th>\n",
       "      <td>The Last Of Us - Well, They Really Did It</td>\n",
       "      <td>The Critical Drinker</td>\n",
       "      <td>It’s game accurate, but Joel was the only reas...</td>\n",
       "      <td>0.0000</td>\n",
       "      <td>https://www.youtube.com/watch?v=7US7_rtOkJY</td>\n",
       "    </tr>\n",
       "    <tr>\n",
       "      <th>735</th>\n",
       "      <td>The Last Of Us - Well, They Really Did It</td>\n",
       "      <td>The Critical Drinker</td>\n",
       "      <td>Abby became more like a villain in this than i...</td>\n",
       "      <td>-0.2665</td>\n",
       "      <td>https://www.youtube.com/watch?v=7US7_rtOkJY</td>\n",
       "    </tr>\n",
       "    <tr>\n",
       "      <th>736</th>\n",
       "      <td>The Last Of Us - Well, They Really Did It</td>\n",
       "      <td>The Critical Drinker</td>\n",
       "      <td>I never played the games and I did not see Joe...</td>\n",
       "      <td>-0.0336</td>\n",
       "      <td>https://www.youtube.com/watch?v=7US7_rtOkJY</td>\n",
       "    </tr>\n",
       "    <tr>\n",
       "      <th>737</th>\n",
       "      <td>The Last Of Us - Well, They Really Did It</td>\n",
       "      <td>The Critical Drinker</td>\n",
       "      <td>Last of us 1 one of best ever games with best ...</td>\n",
       "      <td>0.2220</td>\n",
       "      <td>https://www.youtube.com/watch?v=7US7_rtOkJY</td>\n",
       "    </tr>\n",
       "    <tr>\n",
       "      <th>738</th>\n",
       "      <td>The Last Of Us - Well, They Really Did It</td>\n",
       "      <td>The Critical Drinker</td>\n",
       "      <td>literally the ugliest cast of characters in mo...</td>\n",
       "      <td>-0.2500</td>\n",
       "      <td>https://www.youtube.com/watch?v=7US7_rtOkJY</td>\n",
       "    </tr>\n",
       "    <tr>\n",
       "      <th>739</th>\n",
       "      <td>The Last Of Us - Well, They Really Did It</td>\n",
       "      <td>The Critical Drinker</td>\n",
       "      <td>It doesn't make sense why Joel is out on patro...</td>\n",
       "      <td>-0.6757</td>\n",
       "      <td>https://www.youtube.com/watch?v=7US7_rtOkJY</td>\n",
       "    </tr>\n",
       "    <tr>\n",
       "      <th>740</th>\n",
       "      <td>The Last Of Us - Well, They Really Did It</td>\n",
       "      <td>The Critical Drinker</td>\n",
       "      <td>yep i figured they kill him off when he agreed...</td>\n",
       "      <td>-0.4385</td>\n",
       "      <td>https://www.youtube.com/watch?v=7US7_rtOkJY</td>\n",
       "    </tr>\n",
       "    <tr>\n",
       "      <th>741</th>\n",
       "      <td>The Last Of Us - Well, They Really Did It</td>\n",
       "      <td>The Critical Drinker</td>\n",
       "      <td>you REALLY think pedro pasquell is a good acto...</td>\n",
       "      <td>0.4199</td>\n",
       "      <td>https://www.youtube.com/watch?v=7US7_rtOkJY</td>\n",
       "    </tr>\n",
       "    <tr>\n",
       "      <th>742</th>\n",
       "      <td>The Last Of Us - Well, They Really Did It</td>\n",
       "      <td>The Critical Drinker</td>\n",
       "      <td>Why didn’t Abby stop omg</td>\n",
       "      <td>-0.2960</td>\n",
       "      <td>https://www.youtube.com/watch?v=7US7_rtOkJY</td>\n",
       "    </tr>\n",
       "    <tr>\n",
       "      <th>743</th>\n",
       "      <td>The Last Of Us - Well, They Really Did It</td>\n",
       "      <td>The Critical Drinker</td>\n",
       "      <td>Ellie looks like dome kind of alien halfbreed.</td>\n",
       "      <td>0.3612</td>\n",
       "      <td>https://www.youtube.com/watch?v=7US7_rtOkJY</td>\n",
       "    </tr>\n",
       "    <tr>\n",
       "      <th>744</th>\n",
       "      <td>The Last Of Us - Well, They Really Did It</td>\n",
       "      <td>The Critical Drinker</td>\n",
       "      <td>The dogs turned the tide, did u watch it?</td>\n",
       "      <td>0.0000</td>\n",
       "      <td>https://www.youtube.com/watch?v=7US7_rtOkJY</td>\n",
       "    </tr>\n",
       "    <tr>\n",
       "      <th>745</th>\n",
       "      <td>The Last Of Us - Well, They Really Did It</td>\n",
       "      <td>The Critical Drinker</td>\n",
       "      <td>Cowardice not to use digital necromancy to use...</td>\n",
       "      <td>-0.4588</td>\n",
       "      <td>https://www.youtube.com/watch?v=7US7_rtOkJY</td>\n",
       "    </tr>\n",
       "    <tr>\n",
       "      <th>746</th>\n",
       "      <td>The Last Of Us - Well, They Really Did It</td>\n",
       "      <td>The Critical Drinker</td>\n",
       "      <td>Loved this episode, that battle was insane</td>\n",
       "      <td>-0.1027</td>\n",
       "      <td>https://www.youtube.com/watch?v=7US7_rtOkJY</td>\n",
       "    </tr>\n",
       "    <tr>\n",
       "      <th>747</th>\n",
       "      <td>The Last Of Us - Well, They Really Did It</td>\n",
       "      <td>The Critical Drinker</td>\n",
       "      <td>Such a poor selection of actors....</td>\n",
       "      <td>-0.4767</td>\n",
       "      <td>https://www.youtube.com/watch?v=7US7_rtOkJY</td>\n",
       "    </tr>\n",
       "    <tr>\n",
       "      <th>748</th>\n",
       "      <td>The Last Of Us - Well, They Really Did It</td>\n",
       "      <td>The Critical Drinker</td>\n",
       "      <td>Not surprised that season 2 is also crap.</td>\n",
       "      <td>-0.5050</td>\n",
       "      <td>https://www.youtube.com/watch?v=7US7_rtOkJY</td>\n",
       "    </tr>\n",
       "  </tbody>\n",
       "</table>\n",
       "</div>"
      ],
      "text/plain": [
       "                                   video_title               channel  \\\n",
       "734  The Last Of Us - Well, They Really Did It  The Critical Drinker   \n",
       "735  The Last Of Us - Well, They Really Did It  The Critical Drinker   \n",
       "736  The Last Of Us - Well, They Really Did It  The Critical Drinker   \n",
       "737  The Last Of Us - Well, They Really Did It  The Critical Drinker   \n",
       "738  The Last Of Us - Well, They Really Did It  The Critical Drinker   \n",
       "739  The Last Of Us - Well, They Really Did It  The Critical Drinker   \n",
       "740  The Last Of Us - Well, They Really Did It  The Critical Drinker   \n",
       "741  The Last Of Us - Well, They Really Did It  The Critical Drinker   \n",
       "742  The Last Of Us - Well, They Really Did It  The Critical Drinker   \n",
       "743  The Last Of Us - Well, They Really Did It  The Critical Drinker   \n",
       "744  The Last Of Us - Well, They Really Did It  The Critical Drinker   \n",
       "745  The Last Of Us - Well, They Really Did It  The Critical Drinker   \n",
       "746  The Last Of Us - Well, They Really Did It  The Critical Drinker   \n",
       "747  The Last Of Us - Well, They Really Did It  The Critical Drinker   \n",
       "748  The Last Of Us - Well, They Really Did It  The Critical Drinker   \n",
       "\n",
       "                                               comment  comment_sentiment  \\\n",
       "734  It’s game accurate, but Joel was the only reas...             0.0000   \n",
       "735  Abby became more like a villain in this than i...            -0.2665   \n",
       "736  I never played the games and I did not see Joe...            -0.0336   \n",
       "737  Last of us 1 one of best ever games with best ...             0.2220   \n",
       "738  literally the ugliest cast of characters in mo...            -0.2500   \n",
       "739  It doesn't make sense why Joel is out on patro...            -0.6757   \n",
       "740  yep i figured they kill him off when he agreed...            -0.4385   \n",
       "741  you REALLY think pedro pasquell is a good acto...             0.4199   \n",
       "742                           Why didn’t Abby stop omg            -0.2960   \n",
       "743     Ellie looks like dome kind of alien halfbreed.             0.3612   \n",
       "744          The dogs turned the tide, did u watch it?             0.0000   \n",
       "745  Cowardice not to use digital necromancy to use...            -0.4588   \n",
       "746         Loved this episode, that battle was insane            -0.1027   \n",
       "747                Such a poor selection of actors....            -0.4767   \n",
       "748          Not surprised that season 2 is also crap.            -0.5050   \n",
       "\n",
       "                                       video_url  \n",
       "734  https://www.youtube.com/watch?v=7US7_rtOkJY  \n",
       "735  https://www.youtube.com/watch?v=7US7_rtOkJY  \n",
       "736  https://www.youtube.com/watch?v=7US7_rtOkJY  \n",
       "737  https://www.youtube.com/watch?v=7US7_rtOkJY  \n",
       "738  https://www.youtube.com/watch?v=7US7_rtOkJY  \n",
       "739  https://www.youtube.com/watch?v=7US7_rtOkJY  \n",
       "740  https://www.youtube.com/watch?v=7US7_rtOkJY  \n",
       "741  https://www.youtube.com/watch?v=7US7_rtOkJY  \n",
       "742  https://www.youtube.com/watch?v=7US7_rtOkJY  \n",
       "743  https://www.youtube.com/watch?v=7US7_rtOkJY  \n",
       "744  https://www.youtube.com/watch?v=7US7_rtOkJY  \n",
       "745  https://www.youtube.com/watch?v=7US7_rtOkJY  \n",
       "746  https://www.youtube.com/watch?v=7US7_rtOkJY  \n",
       "747  https://www.youtube.com/watch?v=7US7_rtOkJY  \n",
       "748  https://www.youtube.com/watch?v=7US7_rtOkJY  "
      ]
     },
     "execution_count": 7,
     "metadata": {},
     "output_type": "execute_result"
    }
   ],
   "source": [
    "df.tail(15)"
   ]
  },
  {
   "cell_type": "code",
   "execution_count": 8,
   "metadata": {
    "colab": {
     "base_uri": "https://localhost:8080/"
    },
    "executionInfo": {
     "elapsed": 19,
     "status": "ok",
     "timestamp": 1745091194380,
     "user": {
      "displayName": "Revanth Shahukaru",
      "userId": "15386280149867855082"
     },
     "user_tz": 240
    },
    "id": "YSqXP-i6PEHT",
    "outputId": "c835739d-6f9a-47db-c7ea-ed8940bb713d"
   },
   "outputs": [
    {
     "name": "stdout",
     "output_type": "stream",
     "text": [
      "<class 'pandas.core.frame.DataFrame'>\n",
      "RangeIndex: 749 entries, 0 to 748\n",
      "Data columns (total 5 columns):\n",
      " #   Column             Non-Null Count  Dtype  \n",
      "---  ------             --------------  -----  \n",
      " 0   video_title        749 non-null    object \n",
      " 1   channel            749 non-null    object \n",
      " 2   comment            749 non-null    object \n",
      " 3   comment_sentiment  749 non-null    float64\n",
      " 4   video_url          749 non-null    object \n",
      "dtypes: float64(1), object(4)\n",
      "memory usage: 29.4+ KB\n"
     ]
    }
   ],
   "source": [
    "df.info()"
   ]
  },
  {
   "cell_type": "code",
   "execution_count": 9,
   "metadata": {
    "colab": {
     "base_uri": "https://localhost:8080/",
     "height": 272
    },
    "executionInfo": {
     "elapsed": 3,
     "status": "ok",
     "timestamp": 1745091194382,
     "user": {
      "displayName": "Revanth Shahukaru",
      "userId": "15386280149867855082"
     },
     "user_tz": 240
    },
    "id": "Nvo_h0FTPEDN",
    "outputId": "c03983ae-d236-4287-dba2-98a2784256ad"
   },
   "outputs": [
    {
     "data": {
      "text/plain": [
       "video_title\n",
       "Can We Beat Josh Allen & Jon Rahm in a Golf Match?                                        50\n",
       "Carrie Underwood Praises with \"How Great Thou Art!\" | American Idol                       50\n",
       "Watch the Destiny 2: The Edge of Fate Reveal on May 6 at 9 AM PT.                         50\n",
       "Cardinal Dolan on significance of Pope Francis dying after Easter                         50\n",
       "skibidi toilet 78                                                                         50\n",
       "Who could replace Pope Francis? Experts explain what could happen next                    50\n",
       "Weapons | Teaser                                                                          50\n",
       "NHL Highlights | Oilers vs. Kings | Gm 1 | April 21, 2025                                 50\n",
       "Squad is IN DANGER! 😳 #SquadVsMonsters                                                    50\n",
       "Cleetus Gets a Talladega Masterclass from Dale Jr.                                        50\n",
       "Original Movies in 2025: Oops, All Flops!                                                 50\n",
       "Possible candidates to become Pope have already been discussed | 9 News Australia         50\n",
       "Morgan Wallen - I’m The Problem (The Shop Sessions)                                       50\n",
       "The Last Of Us - Well, They Really Did It                                                 50\n",
       "FULL SEGMENT: Randy Orton ROCKS John Cena with the RKO: Raw highlights, April 21, 2025    49\n",
       "Name: count, dtype: int64"
      ]
     },
     "execution_count": 9,
     "metadata": {},
     "output_type": "execute_result"
    }
   ],
   "source": [
    "df[\"video_title\"].value_counts()"
   ]
  },
  {
   "cell_type": "markdown",
   "metadata": {
    "id": "aCEzQQ6sW-_O"
   },
   "source": [
    "## 💾 Save to CSV"
   ]
  },
  {
   "cell_type": "code",
   "execution_count": 10,
   "metadata": {
    "id": "oCFgiIqNW8Ne"
   },
   "outputs": [],
   "source": [
    "df.to_csv(\"../data/youtube_data.csv\", index=False)"
   ]
  }
 ],
 "metadata": {
  "colab": {
   "provenance": []
  },
  "kernelspec": {
   "display_name": "venv",
   "language": "python",
   "name": "python3"
  },
  "language_info": {
   "codemirror_mode": {
    "name": "ipython",
    "version": 3
   },
   "file_extension": ".py",
   "mimetype": "text/x-python",
   "name": "python",
   "nbconvert_exporter": "python",
   "pygments_lexer": "ipython3",
   "version": "3.12.1"
  }
 },
 "nbformat": 4,
 "nbformat_minor": 0
}
