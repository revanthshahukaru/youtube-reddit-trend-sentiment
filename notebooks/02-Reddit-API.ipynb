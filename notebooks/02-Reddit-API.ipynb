{
 "cells": [
  {
   "cell_type": "markdown",
   "metadata": {},
   "source": [
    "## Getting API Keys"
   ]
  },
  {
   "cell_type": "code",
   "execution_count": 1,
   "metadata": {},
   "outputs": [],
   "source": [
    "from dotenv import load_dotenv\n",
    "import os\n",
    "\n",
    "load_dotenv()\n",
    "\n",
    "REDDIT_ID = os.getenv(\"REDDIT_CLIENT_ID\")\n",
    "REDDIT_SECRET = os.getenv(\"REDDIT_CLIENT_SECRET\")"
   ]
  },
  {
   "cell_type": "markdown",
   "metadata": {
    "id": "rIHLqgSpVmO7"
   },
   "source": [
    "## 📦 Install required libraries"
   ]
  },
  {
   "cell_type": "code",
   "execution_count": 2,
   "metadata": {
    "colab": {
     "base_uri": "https://localhost:8080/"
    },
    "executionInfo": {
     "elapsed": 8693,
     "status": "ok",
     "timestamp": 1745091226741,
     "user": {
      "displayName": "Revanth Shahukaru",
      "userId": "15386280149867855082"
     },
     "user_tz": 240
    },
    "id": "Bz9Ni8fnK5kt",
    "outputId": "e1686db4-f435-4eb0-f311-7c0c7238d12d"
   },
   "outputs": [
    {
     "name": "stderr",
     "output_type": "stream",
     "text": [
      "[nltk_data] Downloading package punkt to /home/codespace/nltk_data...\n",
      "[nltk_data]   Package punkt is already up-to-date!\n"
     ]
    },
    {
     "data": {
      "text/plain": [
       "True"
      ]
     },
     "execution_count": 2,
     "metadata": {},
     "output_type": "execute_result"
    }
   ],
   "source": [
    "# 📚 Imports\n",
    "import praw\n",
    "import pandas as pd\n",
    "import re\n",
    "import random\n",
    "import time\n",
    "from datetime import datetime, timedelta\n",
    "from vaderSentiment.vaderSentiment import SentimentIntensityAnalyzer\n",
    "from nltk.tokenize import word_tokenize\n",
    "import nltk\n",
    "nltk.download(\"punkt\")"
   ]
  },
  {
   "cell_type": "markdown",
   "metadata": {},
   "source": [
    "## 🔑 Reddit API Setup (Read-only mode)"
   ]
  },
  {
   "cell_type": "code",
   "execution_count": 3,
   "metadata": {
    "executionInfo": {
     "elapsed": 1,
     "status": "ok",
     "timestamp": 1745091226754,
     "user": {
      "displayName": "Revanth Shahukaru",
      "userId": "15386280149867855082"
     },
     "user_tz": 240
    },
    "id": "OJqMmT9uGCIf"
   },
   "outputs": [],
   "source": [
    "reddit = praw.Reddit(\n",
    "    client_id=REDDIT_ID,\n",
    "    client_secret=REDDIT_SECRET,\n",
    "    user_agent=\"youtube_to_reddit_sentiment\"\n",
    ")"
   ]
  },
  {
   "cell_type": "markdown",
   "metadata": {
    "id": "YzvVm3aoV9Yh"
   },
   "source": [
    "## 📥 Load video titles\n"
   ]
  },
  {
   "cell_type": "code",
   "execution_count": 4,
   "metadata": {
    "executionInfo": {
     "elapsed": 760,
     "status": "ok",
     "timestamp": 1745091227516,
     "user": {
      "displayName": "Revanth Shahukaru",
      "userId": "15386280149867855082"
     },
     "user_tz": 240
    },
    "id": "icbjjVAWV8h8"
   },
   "outputs": [],
   "source": [
    "youtube_df = pd.read_csv(\"../data/youtube_data.csv\")\n",
    "\n",
    "# We'll use it as 'month' or 'week' here (PRAW only allows fixed ranges)\n",
    "time_filter = \"month\""
   ]
  },
  {
   "cell_type": "markdown",
   "metadata": {
    "id": "EViKtJY9WMU3"
   },
   "source": [
    "## 🧹 Clean text"
   ]
  },
  {
   "cell_type": "code",
   "execution_count": 5,
   "metadata": {
    "executionInfo": {
     "elapsed": 3,
     "status": "ok",
     "timestamp": 1745091227534,
     "user": {
      "displayName": "Revanth Shahukaru",
      "userId": "15386280149867855082"
     },
     "user_tz": 240
    },
    "id": "EJChjje_V8fj"
   },
   "outputs": [],
   "source": [
    "def clean_text(text):\n",
    "    text = re.sub(r\"http\\S+\", \"\", text)\n",
    "    text = re.sub(r\"[^a-zA-Z0-9\\s]\", \"\", text)\n",
    "    return text.lower()"
   ]
  },
  {
   "cell_type": "markdown",
   "metadata": {
    "id": "Gz-BSzjIWU14"
   },
   "source": [
    "## 📊 Sentiment analysis\n"
   ]
  },
  {
   "cell_type": "code",
   "execution_count": 6,
   "metadata": {
    "executionInfo": {
     "elapsed": 6,
     "status": "ok",
     "timestamp": 1745091227539,
     "user": {
      "displayName": "Revanth Shahukaru",
      "userId": "15386280149867855082"
     },
     "user_tz": 240
    },
    "id": "Ub7VwwUIV8dK"
   },
   "outputs": [],
   "source": [
    "analyzer = SentimentIntensityAnalyzer()\n",
    "def analyze_sentiment(text):\n",
    "    return analyzer.polarity_scores(text)[\"compound\"]"
   ]
  },
  {
   "cell_type": "markdown",
   "metadata": {
    "id": "2WTo8r75WcaP"
   },
   "source": []
  },
  {
   "cell_type": "code",
   "execution_count": 7,
   "metadata": {
    "executionInfo": {
     "elapsed": 12,
     "status": "ok",
     "timestamp": 1745091227555,
     "user": {
      "displayName": "Revanth Shahukaru",
      "userId": "15386280149867855082"
     },
     "user_tz": 240
    },
    "id": "VkNN3pYfV8ay"
   },
   "outputs": [],
   "source": [
    "# 😃 Convert score to emoji\n",
    "def sentiment_emoji(score):\n",
    "    if score >= 0.5:\n",
    "        return \"😃\"\n",
    "    elif score <= -0.5:\n",
    "        return \"😠\"\n",
    "    else:\n",
    "        return \"😐\""
   ]
  },
  {
   "cell_type": "markdown",
   "metadata": {
    "id": "pbulK4ijWdAc"
   },
   "source": [
    "## 🧠 Reddit Post + Comment collector\n"
   ]
  },
  {
   "cell_type": "code",
   "execution_count": 8,
   "metadata": {
    "colab": {
     "base_uri": "https://localhost:8080/"
    },
    "collapsed": true,
    "executionInfo": {
     "elapsed": 45415,
     "status": "ok",
     "timestamp": 1745091272972,
     "user": {
      "displayName": "Revanth Shahukaru",
      "userId": "15386280149867855082"
     },
     "user_tz": 240
    },
    "id": "44dOAmPzV8YY",
    "outputId": "84ebd48d-25ad-4e58-d38a-942984a76978"
   },
   "outputs": [
    {
     "name": "stdout",
     "output_type": "stream",
     "text": [
      "CPU times: user 2.43 s, sys: 177 ms, total: 2.61 s\n",
      "Wall time: 1min 58s\n"
     ]
    }
   ],
   "source": [
    "%%time\n",
    "all_data = []\n",
    "\n",
    "for topic in youtube_df[\"video_title\"].unique():\n",
    "    posts = reddit.subreddit(\"all\").search(query=topic, limit=5, time_filter=time_filter)\n",
    "\n",
    "    for post in posts:\n",
    "        post_data = {\n",
    "            \"youtube_title\": topic,\n",
    "            \"reddit_post_title\": post.title,\n",
    "            \"post_score\": post.score,\n",
    "            \"post_url\": post.url,\n",
    "            \"post_created\": pd.to_datetime(post.created_utc, unit=\"s\"),\n",
    "            \"post_sentiment\": analyze_sentiment(clean_text(post.title)),\n",
    "            \"post_sentiment_emoji\": sentiment_emoji(analyze_sentiment(clean_text(post.title))),\n",
    "        }\n",
    "\n",
    "        # ⛓️ Add top 3 comments per post\n",
    "        post.comments.replace_more(limit=0)\n",
    "        comments = post.comments[:3]\n",
    "        for comment in comments:\n",
    "            cleaned = clean_text(comment.body)\n",
    "            all_data.append({\n",
    "                **post_data,\n",
    "                \"comment\": comment.body,\n",
    "                \"cleaned_comment\": cleaned,\n",
    "                \"comment_sentiment\": analyze_sentiment(cleaned),\n",
    "                \"comment_sentiment_emoji\": sentiment_emoji(analyze_sentiment(cleaned)),\n",
    "                \"comment_author\": str(comment.author),\n",
    "                \"comment_score\": comment.score\n",
    "            })"
   ]
  },
  {
   "cell_type": "markdown",
   "metadata": {
    "id": "oYA7P8ABWwSd"
   },
   "source": [
    "## Analyzing the DataFrame"
   ]
  },
  {
   "cell_type": "code",
   "execution_count": 9,
   "metadata": {
    "executionInfo": {
     "elapsed": 7,
     "status": "ok",
     "timestamp": 1745091272986,
     "user": {
      "displayName": "Revanth Shahukaru",
      "userId": "15386280149867855082"
     },
     "user_tz": 240
    },
    "id": "yf7GHJIwWtX_"
   },
   "outputs": [],
   "source": [
    "df = pd.DataFrame(all_data)"
   ]
  },
  {
   "cell_type": "code",
   "execution_count": 10,
   "metadata": {
    "colab": {
     "base_uri": "https://localhost:8080/",
     "height": 878
    },
    "executionInfo": {
     "elapsed": 313,
     "status": "ok",
     "timestamp": 1745091273301,
     "user": {
      "displayName": "Revanth Shahukaru",
      "userId": "15386280149867855082"
     },
     "user_tz": 240
    },
    "id": "jqSnZhFAWtTd",
    "outputId": "788da4eb-cb5e-4bc2-c20b-7f240019dc15"
   },
   "outputs": [
    {
     "data": {
      "text/html": [
       "<div>\n",
       "<style scoped>\n",
       "    .dataframe tbody tr th:only-of-type {\n",
       "        vertical-align: middle;\n",
       "    }\n",
       "\n",
       "    .dataframe tbody tr th {\n",
       "        vertical-align: top;\n",
       "    }\n",
       "\n",
       "    .dataframe thead th {\n",
       "        text-align: right;\n",
       "    }\n",
       "</style>\n",
       "<table border=\"1\" class=\"dataframe\">\n",
       "  <thead>\n",
       "    <tr style=\"text-align: right;\">\n",
       "      <th></th>\n",
       "      <th>youtube_title</th>\n",
       "      <th>reddit_post_title</th>\n",
       "      <th>post_score</th>\n",
       "      <th>post_url</th>\n",
       "      <th>post_created</th>\n",
       "      <th>post_sentiment</th>\n",
       "      <th>post_sentiment_emoji</th>\n",
       "      <th>comment</th>\n",
       "      <th>cleaned_comment</th>\n",
       "      <th>comment_sentiment</th>\n",
       "      <th>comment_sentiment_emoji</th>\n",
       "      <th>comment_author</th>\n",
       "      <th>comment_score</th>\n",
       "    </tr>\n",
       "  </thead>\n",
       "  <tbody>\n",
       "    <tr>\n",
       "      <th>0</th>\n",
       "      <td>FULL SEGMENT: Randy Orton ROCKS John Cena with...</td>\n",
       "      <td>Post WWE Raw 4/21/2025 Show Discussion Thread ...</td>\n",
       "      <td>184</td>\n",
       "      <td>https://www.reddit.com/r/SquaredCircle/comment...</td>\n",
       "      <td>2025-04-22 02:53:50</td>\n",
       "      <td>0.0000</td>\n",
       "      <td>😐</td>\n",
       "      <td>Corey Graves watching Pat get choked out\\n\\nht...</td>\n",
       "      <td>corey graves watching pat get choked out\\n\\n</td>\n",
       "      <td>-0.6486</td>\n",
       "      <td>😠</td>\n",
       "      <td>breakourbones</td>\n",
       "      <td>353</td>\n",
       "    </tr>\n",
       "    <tr>\n",
       "      <th>1</th>\n",
       "      <td>FULL SEGMENT: Randy Orton ROCKS John Cena with...</td>\n",
       "      <td>Post WWE Raw 4/21/2025 Show Discussion Thread ...</td>\n",
       "      <td>184</td>\n",
       "      <td>https://www.reddit.com/r/SquaredCircle/comment...</td>\n",
       "      <td>2025-04-22 02:53:50</td>\n",
       "      <td>0.0000</td>\n",
       "      <td>😐</td>\n",
       "      <td>“The role of Brock Lesner will now be played b...</td>\n",
       "      <td>the role of brock lesner will now be played by...</td>\n",
       "      <td>0.3400</td>\n",
       "      <td>😐</td>\n",
       "      <td>ShippingNotIncluded</td>\n",
       "      <td>504</td>\n",
       "    </tr>\n",
       "    <tr>\n",
       "      <th>2</th>\n",
       "      <td>FULL SEGMENT: Randy Orton ROCKS John Cena with...</td>\n",
       "      <td>Post WWE Raw 4/21/2025 Show Discussion Thread ...</td>\n",
       "      <td>184</td>\n",
       "      <td>https://www.reddit.com/r/SquaredCircle/comment...</td>\n",
       "      <td>2025-04-22 02:53:50</td>\n",
       "      <td>0.0000</td>\n",
       "      <td>😐</td>\n",
       "      <td>Seth, Bron and Heyman as a faction is going to...</td>\n",
       "      <td>seth bron and heyman as a faction is going to ...</td>\n",
       "      <td>-0.4576</td>\n",
       "      <td>😐</td>\n",
       "      <td>lunaticarchitect</td>\n",
       "      <td>224</td>\n",
       "    </tr>\n",
       "    <tr>\n",
       "      <th>3</th>\n",
       "      <td>FULL SEGMENT: Randy Orton ROCKS John Cena with...</td>\n",
       "      <td>Post WWE SmackDown Discussion Thread - April 1...</td>\n",
       "      <td>76</td>\n",
       "      <td>https://www.reddit.com/r/SquaredCircle/comment...</td>\n",
       "      <td>2025-04-19 02:59:55</td>\n",
       "      <td>0.0000</td>\n",
       "      <td>😐</td>\n",
       "      <td>Cena selling a single Cross Rhodes like death ...</td>\n",
       "      <td>cena selling a single cross rhodes like death ...</td>\n",
       "      <td>0.2006</td>\n",
       "      <td>😐</td>\n",
       "      <td>PepsiPlunge19</td>\n",
       "      <td>192</td>\n",
       "    </tr>\n",
       "    <tr>\n",
       "      <th>4</th>\n",
       "      <td>FULL SEGMENT: Randy Orton ROCKS John Cena with...</td>\n",
       "      <td>Post WWE SmackDown Discussion Thread - April 1...</td>\n",
       "      <td>76</td>\n",
       "      <td>https://www.reddit.com/r/SquaredCircle/comment...</td>\n",
       "      <td>2025-04-19 02:59:55</td>\n",
       "      <td>0.0000</td>\n",
       "      <td>😐</td>\n",
       "      <td>Cena never once had the upper hand all build. ...</td>\n",
       "      <td>cena never once had the upper hand all build h...</td>\n",
       "      <td>0.8519</td>\n",
       "      <td>😃</td>\n",
       "      <td>BathtubBobby</td>\n",
       "      <td>216</td>\n",
       "    </tr>\n",
       "    <tr>\n",
       "      <th>...</th>\n",
       "      <td>...</td>\n",
       "      <td>...</td>\n",
       "      <td>...</td>\n",
       "      <td>...</td>\n",
       "      <td>...</td>\n",
       "      <td>...</td>\n",
       "      <td>...</td>\n",
       "      <td>...</td>\n",
       "      <td>...</td>\n",
       "      <td>...</td>\n",
       "      <td>...</td>\n",
       "      <td>...</td>\n",
       "      <td>...</td>\n",
       "    </tr>\n",
       "    <tr>\n",
       "      <th>191</th>\n",
       "      <td>Update On Willow. She’s Been Struggling!</td>\n",
       "      <td>I 28F think a nap ruined my marriage to 30M</td>\n",
       "      <td>15393</td>\n",
       "      <td>https://www.reddit.com/r/relationship_advice/c...</td>\n",
       "      <td>2025-04-05 07:03:43</td>\n",
       "      <td>-0.4767</td>\n",
       "      <td>😐</td>\n",
       "      <td>You're leaving him because he's a bad father a...</td>\n",
       "      <td>youre leaving him because hes a bad father and...</td>\n",
       "      <td>-0.7650</td>\n",
       "      <td>😠</td>\n",
       "      <td>SquilliamFancySon95</td>\n",
       "      <td>20078</td>\n",
       "    </tr>\n",
       "    <tr>\n",
       "      <th>192</th>\n",
       "      <td>Update On Willow. She’s Been Struggling!</td>\n",
       "      <td>I 28F think a nap ruined my marriage to 30M</td>\n",
       "      <td>15393</td>\n",
       "      <td>https://www.reddit.com/r/relationship_advice/c...</td>\n",
       "      <td>2025-04-05 07:03:43</td>\n",
       "      <td>-0.4767</td>\n",
       "      <td>😐</td>\n",
       "      <td>He is incredibly selfish, that’s way beyound b...</td>\n",
       "      <td>he is incredibly selfish thats way beyound bei...</td>\n",
       "      <td>-0.5256</td>\n",
       "      <td>😠</td>\n",
       "      <td>Throwaway4privacy77</td>\n",
       "      <td>3752</td>\n",
       "    </tr>\n",
       "    <tr>\n",
       "      <th>193</th>\n",
       "      <td>Update On Willow. She’s Been Struggling!</td>\n",
       "      <td>My wife returned from a work retreat with a hi...</td>\n",
       "      <td>9973</td>\n",
       "      <td>https://www.reddit.com/r/BestofRedditorUpdates...</td>\n",
       "      <td>2025-04-04 04:00:01</td>\n",
       "      <td>-0.6527</td>\n",
       "      <td>😠</td>\n",
       "      <td>#Do not comment on the original posts\\n\\nPleas...</td>\n",
       "      <td>do not comment on the original posts\\n\\nplease...</td>\n",
       "      <td>0.3182</td>\n",
       "      <td>😐</td>\n",
       "      <td>AutoModerator</td>\n",
       "      <td>1</td>\n",
       "    </tr>\n",
       "    <tr>\n",
       "      <th>194</th>\n",
       "      <td>Update On Willow. She’s Been Struggling!</td>\n",
       "      <td>My wife returned from a work retreat with a hi...</td>\n",
       "      <td>9973</td>\n",
       "      <td>https://www.reddit.com/r/BestofRedditorUpdates...</td>\n",
       "      <td>2025-04-04 04:00:01</td>\n",
       "      <td>-0.6527</td>\n",
       "      <td>😠</td>\n",
       "      <td>honestly it sounds like they’re on the road to...</td>\n",
       "      <td>honestly it sounds like theyre on the road to ...</td>\n",
       "      <td>0.9821</td>\n",
       "      <td>😃</td>\n",
       "      <td>_mielait</td>\n",
       "      <td>6638</td>\n",
       "    </tr>\n",
       "    <tr>\n",
       "      <th>195</th>\n",
       "      <td>Update On Willow. She’s Been Struggling!</td>\n",
       "      <td>My wife returned from a work retreat with a hi...</td>\n",
       "      <td>9973</td>\n",
       "      <td>https://www.reddit.com/r/BestofRedditorUpdates...</td>\n",
       "      <td>2025-04-04 04:00:01</td>\n",
       "      <td>-0.6527</td>\n",
       "      <td>😠</td>\n",
       "      <td>She was a shitty Mom &amp; Wife before the consumm...</td>\n",
       "      <td>she was a shitty mom  wife before the consumma...</td>\n",
       "      <td>-0.5574</td>\n",
       "      <td>😠</td>\n",
       "      <td>AnonThrowAway072023</td>\n",
       "      <td>4422</td>\n",
       "    </tr>\n",
       "  </tbody>\n",
       "</table>\n",
       "<p>196 rows × 13 columns</p>\n",
       "</div>"
      ],
      "text/plain": [
       "                                         youtube_title  \\\n",
       "0    FULL SEGMENT: Randy Orton ROCKS John Cena with...   \n",
       "1    FULL SEGMENT: Randy Orton ROCKS John Cena with...   \n",
       "2    FULL SEGMENT: Randy Orton ROCKS John Cena with...   \n",
       "3    FULL SEGMENT: Randy Orton ROCKS John Cena with...   \n",
       "4    FULL SEGMENT: Randy Orton ROCKS John Cena with...   \n",
       "..                                                 ...   \n",
       "191           Update On Willow. She’s Been Struggling!   \n",
       "192           Update On Willow. She’s Been Struggling!   \n",
       "193           Update On Willow. She’s Been Struggling!   \n",
       "194           Update On Willow. She’s Been Struggling!   \n",
       "195           Update On Willow. She’s Been Struggling!   \n",
       "\n",
       "                                     reddit_post_title  post_score  \\\n",
       "0    Post WWE Raw 4/21/2025 Show Discussion Thread ...         184   \n",
       "1    Post WWE Raw 4/21/2025 Show Discussion Thread ...         184   \n",
       "2    Post WWE Raw 4/21/2025 Show Discussion Thread ...         184   \n",
       "3    Post WWE SmackDown Discussion Thread - April 1...          76   \n",
       "4    Post WWE SmackDown Discussion Thread - April 1...          76   \n",
       "..                                                 ...         ...   \n",
       "191        I 28F think a nap ruined my marriage to 30M       15393   \n",
       "192        I 28F think a nap ruined my marriage to 30M       15393   \n",
       "193  My wife returned from a work retreat with a hi...        9973   \n",
       "194  My wife returned from a work retreat with a hi...        9973   \n",
       "195  My wife returned from a work retreat with a hi...        9973   \n",
       "\n",
       "                                              post_url        post_created  \\\n",
       "0    https://www.reddit.com/r/SquaredCircle/comment... 2025-04-22 02:53:50   \n",
       "1    https://www.reddit.com/r/SquaredCircle/comment... 2025-04-22 02:53:50   \n",
       "2    https://www.reddit.com/r/SquaredCircle/comment... 2025-04-22 02:53:50   \n",
       "3    https://www.reddit.com/r/SquaredCircle/comment... 2025-04-19 02:59:55   \n",
       "4    https://www.reddit.com/r/SquaredCircle/comment... 2025-04-19 02:59:55   \n",
       "..                                                 ...                 ...   \n",
       "191  https://www.reddit.com/r/relationship_advice/c... 2025-04-05 07:03:43   \n",
       "192  https://www.reddit.com/r/relationship_advice/c... 2025-04-05 07:03:43   \n",
       "193  https://www.reddit.com/r/BestofRedditorUpdates... 2025-04-04 04:00:01   \n",
       "194  https://www.reddit.com/r/BestofRedditorUpdates... 2025-04-04 04:00:01   \n",
       "195  https://www.reddit.com/r/BestofRedditorUpdates... 2025-04-04 04:00:01   \n",
       "\n",
       "     post_sentiment post_sentiment_emoji  \\\n",
       "0            0.0000                    😐   \n",
       "1            0.0000                    😐   \n",
       "2            0.0000                    😐   \n",
       "3            0.0000                    😐   \n",
       "4            0.0000                    😐   \n",
       "..              ...                  ...   \n",
       "191         -0.4767                    😐   \n",
       "192         -0.4767                    😐   \n",
       "193         -0.6527                    😠   \n",
       "194         -0.6527                    😠   \n",
       "195         -0.6527                    😠   \n",
       "\n",
       "                                               comment  \\\n",
       "0    Corey Graves watching Pat get choked out\\n\\nht...   \n",
       "1    “The role of Brock Lesner will now be played b...   \n",
       "2    Seth, Bron and Heyman as a faction is going to...   \n",
       "3    Cena selling a single Cross Rhodes like death ...   \n",
       "4    Cena never once had the upper hand all build. ...   \n",
       "..                                                 ...   \n",
       "191  You're leaving him because he's a bad father a...   \n",
       "192  He is incredibly selfish, that’s way beyound b...   \n",
       "193  #Do not comment on the original posts\\n\\nPleas...   \n",
       "194  honestly it sounds like they’re on the road to...   \n",
       "195  She was a shitty Mom & Wife before the consumm...   \n",
       "\n",
       "                                       cleaned_comment  comment_sentiment  \\\n",
       "0         corey graves watching pat get choked out\\n\\n            -0.6486   \n",
       "1    the role of brock lesner will now be played by...             0.3400   \n",
       "2    seth bron and heyman as a faction is going to ...            -0.4576   \n",
       "3    cena selling a single cross rhodes like death ...             0.2006   \n",
       "4    cena never once had the upper hand all build h...             0.8519   \n",
       "..                                                 ...                ...   \n",
       "191  youre leaving him because hes a bad father and...            -0.7650   \n",
       "192  he is incredibly selfish thats way beyound bei...            -0.5256   \n",
       "193  do not comment on the original posts\\n\\nplease...             0.3182   \n",
       "194  honestly it sounds like theyre on the road to ...             0.9821   \n",
       "195  she was a shitty mom  wife before the consumma...            -0.5574   \n",
       "\n",
       "    comment_sentiment_emoji       comment_author  comment_score  \n",
       "0                         😠        breakourbones            353  \n",
       "1                         😐  ShippingNotIncluded            504  \n",
       "2                         😐     lunaticarchitect            224  \n",
       "3                         😐        PepsiPlunge19            192  \n",
       "4                         😃         BathtubBobby            216  \n",
       "..                      ...                  ...            ...  \n",
       "191                       😠  SquilliamFancySon95          20078  \n",
       "192                       😠  Throwaway4privacy77           3752  \n",
       "193                       😐        AutoModerator              1  \n",
       "194                       😃             _mielait           6638  \n",
       "195                       😠  AnonThrowAway072023           4422  \n",
       "\n",
       "[196 rows x 13 columns]"
      ]
     },
     "execution_count": 10,
     "metadata": {},
     "output_type": "execute_result"
    }
   ],
   "source": [
    "df"
   ]
  },
  {
   "cell_type": "markdown",
   "metadata": {
    "id": "q9m7IyzVaetW"
   },
   "source": [
    "## Checking Downvoted Comments"
   ]
  },
  {
   "cell_type": "code",
   "execution_count": 11,
   "metadata": {
    "executionInfo": {
     "elapsed": 1,
     "status": "ok",
     "timestamp": 1745091273303,
     "user": {
      "displayName": "Revanth Shahukaru",
      "userId": "15386280149867855082"
     },
     "user_tz": 240
    },
    "id": "pYSupeXCWtOp"
   },
   "outputs": [
    {
     "name": "stdout",
     "output_type": "stream",
     "text": [
      "Comment:\n",
      "I really want Cletus to do well but not knowing where the start/finish line just gives a feeling like he doesn't care enough about what he's doing to learn. But hearing his \"plan\" is to make Xfinity seems like it's much more attainable now that he and Jr have a friendship\n",
      "\n",
      "Comment Score:\n",
      "-3\n",
      "Comment:\n",
      "stop spamming this rubbish video ffs\n",
      "\n",
      "Comment Score:\n",
      "-6\n",
      "Comment:\n",
      "Snow White is an original movie?\n",
      "\n",
      "Comment Score:\n",
      "-1\n"
     ]
    }
   ],
   "source": [
    "df[df[\"comment_score\"] < 0][[\"comment\", \"comment_score\"]]\n",
    "\n",
    "for comment, comment_score in zip(df[\"comment\"], df[\"comment_score\"]):\n",
    "    if comment_score < 0:\n",
    "        print(f\"Comment:\\n{comment}\", f\"Comment Score:\\n{comment_score}\", sep=\"\\n\\n\")"
   ]
  },
  {
   "cell_type": "markdown",
   "metadata": {
    "id": "JxziBZSXWm4c"
   },
   "source": [
    "## 💾 Save to CSV"
   ]
  },
  {
   "cell_type": "code",
   "execution_count": 12,
   "metadata": {
    "executionInfo": {
     "elapsed": 132,
     "status": "ok",
     "timestamp": 1745091273454,
     "user": {
      "displayName": "Revanth Shahukaru",
      "userId": "15386280149867855082"
     },
     "user_tz": 240
    },
    "id": "R9d9ep2UV8Vg"
   },
   "outputs": [],
   "source": [
    "df.to_csv(\"../data/reddit_data.csv\", index=False)"
   ]
  }
 ],
 "metadata": {
  "colab": {
   "authorship_tag": "ABX9TyNzjfyPJcBPdHZIF+Qxbw7i",
   "mount_file_id": "15sSox08qpH3gll6DB2mYIYf0mIacqb3h",
   "provenance": []
  },
  "kernelspec": {
   "display_name": "venv",
   "language": "python",
   "name": "python3"
  },
  "language_info": {
   "codemirror_mode": {
    "name": "ipython",
    "version": 3
   },
   "file_extension": ".py",
   "mimetype": "text/x-python",
   "name": "python",
   "nbconvert_exporter": "python",
   "pygments_lexer": "ipython3",
   "version": "3.12.1"
  }
 },
 "nbformat": 4,
 "nbformat_minor": 0
}
