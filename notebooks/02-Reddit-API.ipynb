{
 "cells": [
  {
   "cell_type": "markdown",
   "metadata": {},
   "source": [
    "## Getting API Keys"
   ]
  },
  {
   "cell_type": "code",
   "execution_count": 2,
   "metadata": {},
   "outputs": [],
   "source": [
    "from dotenv import load_dotenv\n",
    "import os\n",
    "\n",
    "load_dotenv()\n",
    "\n",
    "REDDIT_ID = os.getenv(\"REDDIT_CLIENT_ID\")\n",
    "REDDIT_SECRET = os.getenv(\"REDDIT_CLIENT_SECRET\")"
   ]
  },
  {
   "cell_type": "markdown",
   "metadata": {
    "id": "rIHLqgSpVmO7"
   },
   "source": [
    "## 📦 Install required libraries"
   ]
  },
  {
   "cell_type": "code",
   "execution_count": 3,
   "metadata": {
    "colab": {
     "base_uri": "https://localhost:8080/"
    },
    "executionInfo": {
     "elapsed": 8693,
     "status": "ok",
     "timestamp": 1745091226741,
     "user": {
      "displayName": "Revanth Shahukaru",
      "userId": "15386280149867855082"
     },
     "user_tz": 240
    },
    "id": "Bz9Ni8fnK5kt",
    "outputId": "e1686db4-f435-4eb0-f311-7c0c7238d12d"
   },
   "outputs": [
    {
     "name": "stderr",
     "output_type": "stream",
     "text": [
      "[nltk_data] Downloading package punkt to /home/codespace/nltk_data...\n",
      "[nltk_data]   Package punkt is already up-to-date!\n"
     ]
    },
    {
     "data": {
      "text/plain": [
       "True"
      ]
     },
     "execution_count": 3,
     "metadata": {},
     "output_type": "execute_result"
    }
   ],
   "source": [
    "# 📚 Imports\n",
    "import praw\n",
    "import pandas as pd\n",
    "import re\n",
    "import random\n",
    "import time\n",
    "from datetime import datetime, timedelta\n",
    "from vaderSentiment.vaderSentiment import SentimentIntensityAnalyzer\n",
    "from nltk.tokenize import word_tokenize\n",
    "import nltk\n",
    "nltk.download(\"punkt\")"
   ]
  },
  {
   "cell_type": "markdown",
   "metadata": {},
   "source": [
    "## 🔑 Reddit API Setup (Read-only mode)"
   ]
  },
  {
   "cell_type": "code",
   "execution_count": 4,
   "metadata": {
    "executionInfo": {
     "elapsed": 1,
     "status": "ok",
     "timestamp": 1745091226754,
     "user": {
      "displayName": "Revanth Shahukaru",
      "userId": "15386280149867855082"
     },
     "user_tz": 240
    },
    "id": "OJqMmT9uGCIf"
   },
   "outputs": [],
   "source": [
    "reddit = praw.Reddit(\n",
    "    client_id=REDDIT_ID,\n",
    "    client_secret=REDDIT_SECRET,\n",
    "    user_agent=\"youtube_to_reddit_sentiment\"\n",
    ")"
   ]
  },
  {
   "cell_type": "markdown",
   "metadata": {
    "id": "YzvVm3aoV9Yh"
   },
   "source": [
    "## 📥 Load video titles\n"
   ]
  },
  {
   "cell_type": "code",
   "execution_count": 5,
   "metadata": {
    "executionInfo": {
     "elapsed": 760,
     "status": "ok",
     "timestamp": 1745091227516,
     "user": {
      "displayName": "Revanth Shahukaru",
      "userId": "15386280149867855082"
     },
     "user_tz": 240
    },
    "id": "icbjjVAWV8h8"
   },
   "outputs": [],
   "source": [
    "youtube_df = pd.read_csv(\"../data/youtube_data.csv\")\n",
    "\n",
    "# We'll use it as 'month' or 'week' here (PRAW only allows fixed ranges)\n",
    "time_filter = \"month\""
   ]
  },
  {
   "cell_type": "markdown",
   "metadata": {
    "id": "EViKtJY9WMU3"
   },
   "source": [
    "## 🧹 Clean text"
   ]
  },
  {
   "cell_type": "code",
   "execution_count": 6,
   "metadata": {
    "executionInfo": {
     "elapsed": 3,
     "status": "ok",
     "timestamp": 1745091227534,
     "user": {
      "displayName": "Revanth Shahukaru",
      "userId": "15386280149867855082"
     },
     "user_tz": 240
    },
    "id": "EJChjje_V8fj"
   },
   "outputs": [],
   "source": [
    "def clean_text(text):\n",
    "    text = re.sub(r\"http\\S+\", \"\", text)\n",
    "    text = re.sub(r\"[^a-zA-Z0-9\\s]\", \"\", text)\n",
    "    return text.lower()"
   ]
  },
  {
   "cell_type": "markdown",
   "metadata": {
    "id": "Gz-BSzjIWU14"
   },
   "source": [
    "## 📊 Sentiment analysis\n"
   ]
  },
  {
   "cell_type": "code",
   "execution_count": 7,
   "metadata": {
    "executionInfo": {
     "elapsed": 6,
     "status": "ok",
     "timestamp": 1745091227539,
     "user": {
      "displayName": "Revanth Shahukaru",
      "userId": "15386280149867855082"
     },
     "user_tz": 240
    },
    "id": "Ub7VwwUIV8dK"
   },
   "outputs": [],
   "source": [
    "analyzer = SentimentIntensityAnalyzer()\n",
    "def analyze_sentiment(text):\n",
    "    return analyzer.polarity_scores(text)[\"compound\"]"
   ]
  },
  {
   "cell_type": "code",
   "execution_count": 8,
   "metadata": {
    "executionInfo": {
     "elapsed": 12,
     "status": "ok",
     "timestamp": 1745091227555,
     "user": {
      "displayName": "Revanth Shahukaru",
      "userId": "15386280149867855082"
     },
     "user_tz": 240
    },
    "id": "VkNN3pYfV8ay"
   },
   "outputs": [],
   "source": [
    "# 😃 Convert score to emoji\n",
    "def sentiment_emoji(score):\n",
    "    if score >= 0.5:\n",
    "        return \"😃\"\n",
    "    elif score <= -0.5:\n",
    "        return \"😠\"\n",
    "    else:\n",
    "        return \"😐\""
   ]
  },
  {
   "cell_type": "markdown",
   "metadata": {
    "id": "pbulK4ijWdAc"
   },
   "source": [
    "## 🧠 Reddit Post + Comment collector\n"
   ]
  },
  {
   "cell_type": "code",
   "execution_count": 9,
   "metadata": {
    "colab": {
     "base_uri": "https://localhost:8080/"
    },
    "collapsed": true,
    "executionInfo": {
     "elapsed": 45415,
     "status": "ok",
     "timestamp": 1745091272972,
     "user": {
      "displayName": "Revanth Shahukaru",
      "userId": "15386280149867855082"
     },
     "user_tz": 240
    },
    "id": "44dOAmPzV8YY",
    "outputId": "84ebd48d-25ad-4e58-d38a-942984a76978"
   },
   "outputs": [
    {
     "name": "stdout",
     "output_type": "stream",
     "text": [
      "CPU times: user 2.04 s, sys: 149 ms, total: 2.19 s\n",
      "Wall time: 1min 32s\n"
     ]
    }
   ],
   "source": [
    "%%time\n",
    "all_data = []\n",
    "\n",
    "for topic in youtube_df[\"video_title\"].unique():\n",
    "    posts = reddit.subreddit(\"all\").search(query=topic, limit=5, time_filter=time_filter)\n",
    "\n",
    "    for post in posts:\n",
    "        post_data = {\n",
    "            \"youtube_title\": topic,\n",
    "            \"reddit_post_title\": post.title,\n",
    "            \"post_score\": post.score,\n",
    "            \"post_url\": post.url,\n",
    "            \"post_created\": pd.to_datetime(post.created_utc, unit=\"s\"),\n",
    "            \"post_sentiment\": analyze_sentiment(clean_text(post.title)),\n",
    "            \"post_sentiment_emoji\": sentiment_emoji(analyze_sentiment(clean_text(post.title))),\n",
    "        }\n",
    "\n",
    "        # ⛓️ Add top 3 comments per post\n",
    "        post.comments.replace_more(limit=0)\n",
    "        comments = post.comments[:3]\n",
    "        for comment in comments:\n",
    "            cleaned = clean_text(comment.body)\n",
    "            all_data.append({\n",
    "                **post_data,\n",
    "                \"comment\": comment.body,\n",
    "                \"cleaned_comment\": cleaned,\n",
    "                \"comment_sentiment\": analyze_sentiment(cleaned),\n",
    "                \"comment_sentiment_emoji\": sentiment_emoji(analyze_sentiment(cleaned)),\n",
    "                \"comment_author\": str(comment.author),\n",
    "                \"comment_score\": comment.score\n",
    "            })"
   ]
  },
  {
   "cell_type": "markdown",
   "metadata": {},
   "source": [
    "### This is how our data looks in `semi-structured` form"
   ]
  },
  {
   "cell_type": "code",
   "execution_count": 15,
   "metadata": {},
   "outputs": [
    {
     "data": {
      "text/plain": [
       "[{'youtube_title': 'The Elder Scrolls IV: Oblivion Remastered - Full Reveal Stream',\n",
       "  'reddit_post_title': 'Possessed Love Season 2 - Episode 9 - 250422',\n",
       "  'post_score': 6,\n",
       "  'post_url': 'https://www.reddit.com/r/koreanvariety/comments/1k5cfsl/possessed_love_season_2_episode_9_250422/',\n",
       "  'post_created': Timestamp('2025-04-22 17:40:21'),\n",
       "  'post_sentiment': 0.6369,\n",
       "  'post_sentiment_emoji': '😃',\n",
       "  'comment': 'why did kangwon leave? weird 🤔🤔',\n",
       "  'cleaned_comment': 'why did kangwon leave weird ',\n",
       "  'comment_sentiment': -0.2263,\n",
       "  'comment_sentiment_emoji': '😐',\n",
       "  'comment_author': '009763',\n",
       "  'comment_score': 1},\n",
       " {'youtube_title': 'The Elder Scrolls IV: Oblivion Remastered - Full Reveal Stream',\n",
       "  'reddit_post_title': 'Possessed Love Season 2 - Episode 9 - 250422',\n",
       "  'post_score': 6,\n",
       "  'post_url': 'https://www.reddit.com/r/koreanvariety/comments/1k5cfsl/possessed_love_season_2_episode_9_250422/',\n",
       "  'post_created': Timestamp('2025-04-22 17:40:21'),\n",
       "  'post_sentiment': 0.6369,\n",
       "  'post_sentiment_emoji': '😃',\n",
       "  'comment': 'I saw the spoilers and just wondering why did he leave ? Or rather what rules were broken for it to be this serious that he’s had to exist the show? Im curious to know the truth\\n\\nThough I have my suspicions and looks like plenty of other viewers have also come to the same suspicions as well. Wish the show would air it out.\\n\\nRayoon/Gangwon was my fave ship :/',\n",
       "  'cleaned_comment': 'i saw the spoilers and just wondering why did he leave  or rather what rules were broken for it to be this serious that hes had to exist the show im curious to know the truth\\n\\nthough i have my suspicions and looks like plenty of other viewers have also come to the same suspicions as well wish the show would air it out\\n\\nrayoongangwon was my fave ship ',\n",
       "  'comment_sentiment': 0.628,\n",
       "  'comment_sentiment_emoji': '😃',\n",
       "  'comment_author': 'dreamstorming',\n",
       "  'comment_score': 1}]"
      ]
     },
     "execution_count": 15,
     "metadata": {},
     "output_type": "execute_result"
    }
   ],
   "source": [
    "all_data[:2]"
   ]
  },
  {
   "cell_type": "markdown",
   "metadata": {},
   "source": [
    "### This is how our data looks when `structured` into a DataFrame"
   ]
  },
  {
   "cell_type": "code",
   "execution_count": 11,
   "metadata": {
    "executionInfo": {
     "elapsed": 7,
     "status": "ok",
     "timestamp": 1745091272986,
     "user": {
      "displayName": "Revanth Shahukaru",
      "userId": "15386280149867855082"
     },
     "user_tz": 240
    },
    "id": "yf7GHJIwWtX_"
   },
   "outputs": [
    {
     "data": {
      "text/html": [
       "<div>\n",
       "<style scoped>\n",
       "    .dataframe tbody tr th:only-of-type {\n",
       "        vertical-align: middle;\n",
       "    }\n",
       "\n",
       "    .dataframe tbody tr th {\n",
       "        vertical-align: top;\n",
       "    }\n",
       "\n",
       "    .dataframe thead th {\n",
       "        text-align: right;\n",
       "    }\n",
       "</style>\n",
       "<table border=\"1\" class=\"dataframe\">\n",
       "  <thead>\n",
       "    <tr style=\"text-align: right;\">\n",
       "      <th></th>\n",
       "      <th>youtube_title</th>\n",
       "      <th>reddit_post_title</th>\n",
       "      <th>post_score</th>\n",
       "      <th>post_url</th>\n",
       "      <th>post_created</th>\n",
       "      <th>post_sentiment</th>\n",
       "      <th>post_sentiment_emoji</th>\n",
       "      <th>comment</th>\n",
       "      <th>cleaned_comment</th>\n",
       "      <th>comment_sentiment</th>\n",
       "      <th>comment_sentiment_emoji</th>\n",
       "      <th>comment_author</th>\n",
       "      <th>comment_score</th>\n",
       "    </tr>\n",
       "  </thead>\n",
       "  <tbody>\n",
       "    <tr>\n",
       "      <th>0</th>\n",
       "      <td>The Elder Scrolls IV: Oblivion Remastered - Fu...</td>\n",
       "      <td>Possessed Love Season 2 - Episode 9 - 250422</td>\n",
       "      <td>6</td>\n",
       "      <td>https://www.reddit.com/r/koreanvariety/comment...</td>\n",
       "      <td>2025-04-22 17:40:21</td>\n",
       "      <td>0.6369</td>\n",
       "      <td>😃</td>\n",
       "      <td>why did kangwon leave? weird 🤔🤔</td>\n",
       "      <td>why did kangwon leave weird</td>\n",
       "      <td>-0.2263</td>\n",
       "      <td>😐</td>\n",
       "      <td>009763</td>\n",
       "      <td>1</td>\n",
       "    </tr>\n",
       "    <tr>\n",
       "      <th>1</th>\n",
       "      <td>The Elder Scrolls IV: Oblivion Remastered - Fu...</td>\n",
       "      <td>Possessed Love Season 2 - Episode 9 - 250422</td>\n",
       "      <td>6</td>\n",
       "      <td>https://www.reddit.com/r/koreanvariety/comment...</td>\n",
       "      <td>2025-04-22 17:40:21</td>\n",
       "      <td>0.6369</td>\n",
       "      <td>😃</td>\n",
       "      <td>I saw the spoilers and just wondering why did ...</td>\n",
       "      <td>i saw the spoilers and just wondering why did ...</td>\n",
       "      <td>0.6280</td>\n",
       "      <td>😃</td>\n",
       "      <td>dreamstorming</td>\n",
       "      <td>1</td>\n",
       "    </tr>\n",
       "    <tr>\n",
       "      <th>2</th>\n",
       "      <td>The Elder Scrolls IV: Oblivion Remastered - Fu...</td>\n",
       "      <td>Possessed Love Season 2 - Episode 9 - 250422</td>\n",
       "      <td>6</td>\n",
       "      <td>https://www.reddit.com/r/koreanvariety/comment...</td>\n",
       "      <td>2025-04-22 17:40:21</td>\n",
       "      <td>0.6369</td>\n",
       "      <td>😃</td>\n",
       "      <td>Yugyeong really said- if you're not giving me ...</td>\n",
       "      <td>yugyeong really said if youre not giving me an...</td>\n",
       "      <td>-0.0351</td>\n",
       "      <td>😐</td>\n",
       "      <td>Rare-Counter-8772</td>\n",
       "      <td>1</td>\n",
       "    </tr>\n",
       "    <tr>\n",
       "      <th>3</th>\n",
       "      <td>The Elder Scrolls IV: Oblivion Remastered - Of...</td>\n",
       "      <td>The Elder Scrolls IV: Oblivion Remastered - Of...</td>\n",
       "      <td>3739</td>\n",
       "      <td>https://www.youtube.com/watch?v=wFJ3PZuAjK4</td>\n",
       "      <td>2025-04-22 15:15:16</td>\n",
       "      <td>0.0000</td>\n",
       "      <td>😐</td>\n",
       "      <td>Wow, that looks absolutely great. A *huge* gra...</td>\n",
       "      <td>wow that looks absolutely great a huge graphic...</td>\n",
       "      <td>0.9716</td>\n",
       "      <td>😃</td>\n",
       "      <td>TheVoidDragon</td>\n",
       "      <td>1239</td>\n",
       "    </tr>\n",
       "    <tr>\n",
       "      <th>4</th>\n",
       "      <td>The Elder Scrolls IV: Oblivion Remastered - Of...</td>\n",
       "      <td>The Elder Scrolls IV: Oblivion Remastered - Of...</td>\n",
       "      <td>3739</td>\n",
       "      <td>https://www.youtube.com/watch?v=wFJ3PZuAjK4</td>\n",
       "      <td>2025-04-22 15:15:16</td>\n",
       "      <td>0.0000</td>\n",
       "      <td>😐</td>\n",
       "      <td>My goodness. I'd never expected this. They wen...</td>\n",
       "      <td>my goodness id never expected this they went a...</td>\n",
       "      <td>0.1779</td>\n",
       "      <td>😐</td>\n",
       "      <td>Walgreens_Security</td>\n",
       "      <td>620</td>\n",
       "    </tr>\n",
       "    <tr>\n",
       "      <th>...</th>\n",
       "      <td>...</td>\n",
       "      <td>...</td>\n",
       "      <td>...</td>\n",
       "      <td>...</td>\n",
       "      <td>...</td>\n",
       "      <td>...</td>\n",
       "      <td>...</td>\n",
       "      <td>...</td>\n",
       "      <td>...</td>\n",
       "      <td>...</td>\n",
       "      <td>...</td>\n",
       "      <td>...</td>\n",
       "      <td>...</td>\n",
       "    </tr>\n",
       "    <tr>\n",
       "      <th>182</th>\n",
       "      <td>Squad is IN DANGER! 😳 #SquadVsMonsters</td>\n",
       "      <td>[USA][H] Over a hundred cib and new 3DS games,...</td>\n",
       "      <td>3</td>\n",
       "      <td>https://www.reddit.com/r/GameSale/comments/1jp...</td>\n",
       "      <td>2025-04-02 12:42:01</td>\n",
       "      <td>0.0000</td>\n",
       "      <td>😐</td>\n",
       "      <td>Would you do $65 shipped for Pokemon SMD, rumb...</td>\n",
       "      <td>would you do 65 shipped for pokemon smd rumble...</td>\n",
       "      <td>0.0000</td>\n",
       "      <td>😐</td>\n",
       "      <td>cheezytacos2</td>\n",
       "      <td>1</td>\n",
       "    </tr>\n",
       "    <tr>\n",
       "      <th>183</th>\n",
       "      <td>Squad is IN DANGER! 😳 #SquadVsMonsters</td>\n",
       "      <td>[USA][H] Over a hundred cib and new 3DS games,...</td>\n",
       "      <td>3</td>\n",
       "      <td>https://www.reddit.com/r/GameSale/comments/1jp...</td>\n",
       "      <td>2025-04-02 12:42:01</td>\n",
       "      <td>0.0000</td>\n",
       "      <td>😐</td>\n",
       "      <td>Can you do Mario &amp; Sonic at London, Mario and ...</td>\n",
       "      <td>can you do mario  sonic at london mario and so...</td>\n",
       "      <td>-0.1779</td>\n",
       "      <td>😐</td>\n",
       "      <td>Strangy1234</td>\n",
       "      <td>1</td>\n",
       "    </tr>\n",
       "    <tr>\n",
       "      <th>184</th>\n",
       "      <td>Squad is IN DANGER! 😳 #SquadVsMonsters</td>\n",
       "      <td>Is it just me, or is there a consensus that '9...</td>\n",
       "      <td>5</td>\n",
       "      <td>https://www.reddit.com/r/90sHipHop/comments/1j...</td>\n",
       "      <td>2025-03-29 11:26:58</td>\n",
       "      <td>0.6369</td>\n",
       "      <td>😃</td>\n",
       "      <td>Just you. 93 or 94.</td>\n",
       "      <td>just you 93 or 94</td>\n",
       "      <td>0.0000</td>\n",
       "      <td>😐</td>\n",
       "      <td>BobbyR123</td>\n",
       "      <td>15</td>\n",
       "    </tr>\n",
       "    <tr>\n",
       "      <th>185</th>\n",
       "      <td>Squad is IN DANGER! 😳 #SquadVsMonsters</td>\n",
       "      <td>Is it just me, or is there a consensus that '9...</td>\n",
       "      <td>5</td>\n",
       "      <td>https://www.reddit.com/r/90sHipHop/comments/1j...</td>\n",
       "      <td>2025-03-29 11:26:58</td>\n",
       "      <td>0.6369</td>\n",
       "      <td>😃</td>\n",
       "      <td>I feel that 93 was the biggest shift in the music</td>\n",
       "      <td>i feel that 93 was the biggest shift in the music</td>\n",
       "      <td>0.0000</td>\n",
       "      <td>😐</td>\n",
       "      <td>random_name23631</td>\n",
       "      <td>14</td>\n",
       "    </tr>\n",
       "    <tr>\n",
       "      <th>186</th>\n",
       "      <td>Squad is IN DANGER! 😳 #SquadVsMonsters</td>\n",
       "      <td>Is it just me, or is there a consensus that '9...</td>\n",
       "      <td>5</td>\n",
       "      <td>https://www.reddit.com/r/90sHipHop/comments/1j...</td>\n",
       "      <td>2025-03-29 11:26:58</td>\n",
       "      <td>0.6369</td>\n",
       "      <td>😃</td>\n",
       "      <td>Name an album from '96 and I'll name a better ...</td>\n",
       "      <td>name an album from 96 and ill name a better on...</td>\n",
       "      <td>0.0258</td>\n",
       "      <td>😐</td>\n",
       "      <td>FinnishFlashdrive</td>\n",
       "      <td>7</td>\n",
       "    </tr>\n",
       "  </tbody>\n",
       "</table>\n",
       "<p>187 rows × 13 columns</p>\n",
       "</div>"
      ],
      "text/plain": [
       "                                         youtube_title  \\\n",
       "0    The Elder Scrolls IV: Oblivion Remastered - Fu...   \n",
       "1    The Elder Scrolls IV: Oblivion Remastered - Fu...   \n",
       "2    The Elder Scrolls IV: Oblivion Remastered - Fu...   \n",
       "3    The Elder Scrolls IV: Oblivion Remastered - Of...   \n",
       "4    The Elder Scrolls IV: Oblivion Remastered - Of...   \n",
       "..                                                 ...   \n",
       "182             Squad is IN DANGER! 😳 #SquadVsMonsters   \n",
       "183             Squad is IN DANGER! 😳 #SquadVsMonsters   \n",
       "184             Squad is IN DANGER! 😳 #SquadVsMonsters   \n",
       "185             Squad is IN DANGER! 😳 #SquadVsMonsters   \n",
       "186             Squad is IN DANGER! 😳 #SquadVsMonsters   \n",
       "\n",
       "                                     reddit_post_title  post_score  \\\n",
       "0         Possessed Love Season 2 - Episode 9 - 250422           6   \n",
       "1         Possessed Love Season 2 - Episode 9 - 250422           6   \n",
       "2         Possessed Love Season 2 - Episode 9 - 250422           6   \n",
       "3    The Elder Scrolls IV: Oblivion Remastered - Of...        3739   \n",
       "4    The Elder Scrolls IV: Oblivion Remastered - Of...        3739   \n",
       "..                                                 ...         ...   \n",
       "182  [USA][H] Over a hundred cib and new 3DS games,...           3   \n",
       "183  [USA][H] Over a hundred cib and new 3DS games,...           3   \n",
       "184  Is it just me, or is there a consensus that '9...           5   \n",
       "185  Is it just me, or is there a consensus that '9...           5   \n",
       "186  Is it just me, or is there a consensus that '9...           5   \n",
       "\n",
       "                                              post_url        post_created  \\\n",
       "0    https://www.reddit.com/r/koreanvariety/comment... 2025-04-22 17:40:21   \n",
       "1    https://www.reddit.com/r/koreanvariety/comment... 2025-04-22 17:40:21   \n",
       "2    https://www.reddit.com/r/koreanvariety/comment... 2025-04-22 17:40:21   \n",
       "3          https://www.youtube.com/watch?v=wFJ3PZuAjK4 2025-04-22 15:15:16   \n",
       "4          https://www.youtube.com/watch?v=wFJ3PZuAjK4 2025-04-22 15:15:16   \n",
       "..                                                 ...                 ...   \n",
       "182  https://www.reddit.com/r/GameSale/comments/1jp... 2025-04-02 12:42:01   \n",
       "183  https://www.reddit.com/r/GameSale/comments/1jp... 2025-04-02 12:42:01   \n",
       "184  https://www.reddit.com/r/90sHipHop/comments/1j... 2025-03-29 11:26:58   \n",
       "185  https://www.reddit.com/r/90sHipHop/comments/1j... 2025-03-29 11:26:58   \n",
       "186  https://www.reddit.com/r/90sHipHop/comments/1j... 2025-03-29 11:26:58   \n",
       "\n",
       "     post_sentiment post_sentiment_emoji  \\\n",
       "0            0.6369                    😃   \n",
       "1            0.6369                    😃   \n",
       "2            0.6369                    😃   \n",
       "3            0.0000                    😐   \n",
       "4            0.0000                    😐   \n",
       "..              ...                  ...   \n",
       "182          0.0000                    😐   \n",
       "183          0.0000                    😐   \n",
       "184          0.6369                    😃   \n",
       "185          0.6369                    😃   \n",
       "186          0.6369                    😃   \n",
       "\n",
       "                                               comment  \\\n",
       "0                      why did kangwon leave? weird 🤔🤔   \n",
       "1    I saw the spoilers and just wondering why did ...   \n",
       "2    Yugyeong really said- if you're not giving me ...   \n",
       "3    Wow, that looks absolutely great. A *huge* gra...   \n",
       "4    My goodness. I'd never expected this. They wen...   \n",
       "..                                                 ...   \n",
       "182  Would you do $65 shipped for Pokemon SMD, rumb...   \n",
       "183  Can you do Mario & Sonic at London, Mario and ...   \n",
       "184                                Just you. 93 or 94.   \n",
       "185  I feel that 93 was the biggest shift in the music   \n",
       "186  Name an album from '96 and I'll name a better ...   \n",
       "\n",
       "                                       cleaned_comment  comment_sentiment  \\\n",
       "0                         why did kangwon leave weird             -0.2263   \n",
       "1    i saw the spoilers and just wondering why did ...             0.6280   \n",
       "2    yugyeong really said if youre not giving me an...            -0.0351   \n",
       "3    wow that looks absolutely great a huge graphic...             0.9716   \n",
       "4    my goodness id never expected this they went a...             0.1779   \n",
       "..                                                 ...                ...   \n",
       "182  would you do 65 shipped for pokemon smd rumble...             0.0000   \n",
       "183  can you do mario  sonic at london mario and so...            -0.1779   \n",
       "184                                  just you 93 or 94             0.0000   \n",
       "185  i feel that 93 was the biggest shift in the music             0.0000   \n",
       "186  name an album from 96 and ill name a better on...             0.0258   \n",
       "\n",
       "    comment_sentiment_emoji      comment_author  comment_score  \n",
       "0                         😐              009763              1  \n",
       "1                         😃       dreamstorming              1  \n",
       "2                         😐   Rare-Counter-8772              1  \n",
       "3                         😃       TheVoidDragon           1239  \n",
       "4                         😐  Walgreens_Security            620  \n",
       "..                      ...                 ...            ...  \n",
       "182                       😐        cheezytacos2              1  \n",
       "183                       😐         Strangy1234              1  \n",
       "184                       😐           BobbyR123             15  \n",
       "185                       😐    random_name23631             14  \n",
       "186                       😐   FinnishFlashdrive              7  \n",
       "\n",
       "[187 rows x 13 columns]"
      ]
     },
     "execution_count": 11,
     "metadata": {},
     "output_type": "execute_result"
    }
   ],
   "source": [
    "df = pd.DataFrame(all_data)\n",
    "df"
   ]
  },
  {
   "cell_type": "markdown",
   "metadata": {
    "id": "q9m7IyzVaetW"
   },
   "source": [
    "## Checking Downvoted Comments"
   ]
  },
  {
   "cell_type": "code",
   "execution_count": 12,
   "metadata": {
    "executionInfo": {
     "elapsed": 1,
     "status": "ok",
     "timestamp": 1745091273303,
     "user": {
      "displayName": "Revanth Shahukaru",
      "userId": "15386280149867855082"
     },
     "user_tz": 240
    },
    "id": "pYSupeXCWtOp"
   },
   "outputs": [],
   "source": [
    "df[df[\"comment_score\"] < 0][[\"comment\", \"comment_score\"]]\n",
    "\n",
    "for comment, comment_score in zip(df[\"comment\"], df[\"comment_score\"]):\n",
    "    if comment_score < 0:\n",
    "        print(f\"Comment:\\n{comment}\", f\"Comment Score:\\n{comment_score}\", sep=\"\\n\\n\")"
   ]
  },
  {
   "cell_type": "markdown",
   "metadata": {
    "id": "JxziBZSXWm4c"
   },
   "source": [
    "## 💾 Save to CSV"
   ]
  },
  {
   "cell_type": "code",
   "execution_count": 13,
   "metadata": {
    "executionInfo": {
     "elapsed": 132,
     "status": "ok",
     "timestamp": 1745091273454,
     "user": {
      "displayName": "Revanth Shahukaru",
      "userId": "15386280149867855082"
     },
     "user_tz": 240
    },
    "id": "R9d9ep2UV8Vg"
   },
   "outputs": [],
   "source": [
    "df.to_csv(\"../data/reddit_data.csv\", index=False)"
   ]
  }
 ],
 "metadata": {
  "colab": {
   "authorship_tag": "ABX9TyNzjfyPJcBPdHZIF+Qxbw7i",
   "mount_file_id": "15sSox08qpH3gll6DB2mYIYf0mIacqb3h",
   "provenance": []
  },
  "kernelspec": {
   "display_name": "venv",
   "language": "python",
   "name": "python3"
  },
  "language_info": {
   "codemirror_mode": {
    "name": "ipython",
    "version": 3
   },
   "file_extension": ".py",
   "mimetype": "text/x-python",
   "name": "python",
   "nbconvert_exporter": "python",
   "pygments_lexer": "ipython3",
   "version": "3.12.1"
  }
 },
 "nbformat": 4,
 "nbformat_minor": 0
}
