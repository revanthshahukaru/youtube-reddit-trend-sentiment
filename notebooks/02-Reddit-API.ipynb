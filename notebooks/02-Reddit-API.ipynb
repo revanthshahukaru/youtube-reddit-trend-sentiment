{
 "cells": [
  {
   "cell_type": "markdown",
   "metadata": {},
   "source": [
    "## Getting API Keys"
   ]
  },
  {
   "cell_type": "code",
   "execution_count": 1,
   "metadata": {},
   "outputs": [],
   "source": [
    "from dotenv import load_dotenv\n",
    "import os\n",
    "\n",
    "load_dotenv()\n",
    "\n",
    "REDDIT_ID = os.getenv(\"REDDIT_CLIENT_ID\")\n",
    "REDDIT_SECRET = os.getenv(\"REDDIT_CLIENT_SECRET\")"
   ]
  },
  {
   "cell_type": "markdown",
   "metadata": {
    "id": "rIHLqgSpVmO7"
   },
   "source": [
    "## 📦 Install required libraries"
   ]
  },
  {
   "cell_type": "code",
   "execution_count": 2,
   "metadata": {
    "colab": {
     "base_uri": "https://localhost:8080/"
    },
    "executionInfo": {
     "elapsed": 8693,
     "status": "ok",
     "timestamp": 1745091226741,
     "user": {
      "displayName": "Revanth Shahukaru",
      "userId": "15386280149867855082"
     },
     "user_tz": 240
    },
    "id": "Bz9Ni8fnK5kt",
    "outputId": "e1686db4-f435-4eb0-f311-7c0c7238d12d"
   },
   "outputs": [
    {
     "name": "stderr",
     "output_type": "stream",
     "text": [
      "[nltk_data] Downloading package punkt to /home/codespace/nltk_data...\n",
      "[nltk_data]   Package punkt is already up-to-date!\n"
     ]
    },
    {
     "data": {
      "text/plain": [
       "True"
      ]
     },
     "execution_count": 2,
     "metadata": {},
     "output_type": "execute_result"
    }
   ],
   "source": [
    "# 📚 Imports\n",
    "import praw\n",
    "import pandas as pd\n",
    "import re\n",
    "import random\n",
    "import time\n",
    "from datetime import datetime, timedelta\n",
    "from vaderSentiment.vaderSentiment import SentimentIntensityAnalyzer\n",
    "from nltk.tokenize import word_tokenize\n",
    "import nltk\n",
    "nltk.download(\"punkt\")"
   ]
  },
  {
   "cell_type": "markdown",
   "metadata": {},
   "source": [
    "## 🔑 Reddit API Setup (Read-only mode)"
   ]
  },
  {
   "cell_type": "code",
   "execution_count": 3,
   "metadata": {
    "executionInfo": {
     "elapsed": 1,
     "status": "ok",
     "timestamp": 1745091226754,
     "user": {
      "displayName": "Revanth Shahukaru",
      "userId": "15386280149867855082"
     },
     "user_tz": 240
    },
    "id": "OJqMmT9uGCIf"
   },
   "outputs": [],
   "source": [
    "reddit = praw.Reddit(\n",
    "    client_id=REDDIT_ID,\n",
    "    client_secret=REDDIT_SECRET,\n",
    "    user_agent=\"youtube_to_reddit_sentiment\"\n",
    ")"
   ]
  },
  {
   "cell_type": "markdown",
   "metadata": {
    "id": "YzvVm3aoV9Yh"
   },
   "source": [
    "## 📥 Load video titles\n"
   ]
  },
  {
   "cell_type": "code",
   "execution_count": 4,
   "metadata": {
    "executionInfo": {
     "elapsed": 760,
     "status": "ok",
     "timestamp": 1745091227516,
     "user": {
      "displayName": "Revanth Shahukaru",
      "userId": "15386280149867855082"
     },
     "user_tz": 240
    },
    "id": "icbjjVAWV8h8"
   },
   "outputs": [],
   "source": [
    "youtube_df = pd.read_csv(\"../data/youtube_data.csv\")\n",
    "\n",
    "# We'll use it as 'month' or 'week' here (PRAW only allows fixed ranges)\n",
    "time_filter = \"month\""
   ]
  },
  {
   "cell_type": "markdown",
   "metadata": {
    "id": "EViKtJY9WMU3"
   },
   "source": [
    "## 🧹 Clean text"
   ]
  },
  {
   "cell_type": "code",
   "execution_count": 5,
   "metadata": {
    "executionInfo": {
     "elapsed": 3,
     "status": "ok",
     "timestamp": 1745091227534,
     "user": {
      "displayName": "Revanth Shahukaru",
      "userId": "15386280149867855082"
     },
     "user_tz": 240
    },
    "id": "EJChjje_V8fj"
   },
   "outputs": [],
   "source": [
    "def clean_text(text):\n",
    "    text = re.sub(r\"http\\S+\", \"\", text)\n",
    "    text = re.sub(r\"[^a-zA-Z0-9\\s]\", \"\", text)\n",
    "    return text.lower()"
   ]
  },
  {
   "cell_type": "markdown",
   "metadata": {
    "id": "Gz-BSzjIWU14"
   },
   "source": [
    "## 📊 Sentiment analysis\n"
   ]
  },
  {
   "cell_type": "code",
   "execution_count": 6,
   "metadata": {
    "executionInfo": {
     "elapsed": 6,
     "status": "ok",
     "timestamp": 1745091227539,
     "user": {
      "displayName": "Revanth Shahukaru",
      "userId": "15386280149867855082"
     },
     "user_tz": 240
    },
    "id": "Ub7VwwUIV8dK"
   },
   "outputs": [],
   "source": [
    "analyzer = SentimentIntensityAnalyzer()\n",
    "def analyze_sentiment(text):\n",
    "    return analyzer.polarity_scores(text)[\"compound\"]"
   ]
  },
  {
   "cell_type": "markdown",
   "metadata": {
    "id": "2WTo8r75WcaP"
   },
   "source": []
  },
  {
   "cell_type": "code",
   "execution_count": 7,
   "metadata": {
    "executionInfo": {
     "elapsed": 12,
     "status": "ok",
     "timestamp": 1745091227555,
     "user": {
      "displayName": "Revanth Shahukaru",
      "userId": "15386280149867855082"
     },
     "user_tz": 240
    },
    "id": "VkNN3pYfV8ay"
   },
   "outputs": [],
   "source": [
    "# 😃 Convert score to emoji\n",
    "def sentiment_emoji(score):\n",
    "    if score >= 0.5:\n",
    "        return \"😃\"\n",
    "    elif score <= -0.5:\n",
    "        return \"😠\"\n",
    "    else:\n",
    "        return \"😐\""
   ]
  },
  {
   "cell_type": "markdown",
   "metadata": {
    "id": "pbulK4ijWdAc"
   },
   "source": [
    "## 🧠 Reddit Post + Comment collector\n"
   ]
  },
  {
   "cell_type": "code",
   "execution_count": 8,
   "metadata": {
    "colab": {
     "base_uri": "https://localhost:8080/"
    },
    "collapsed": true,
    "executionInfo": {
     "elapsed": 45415,
     "status": "ok",
     "timestamp": 1745091272972,
     "user": {
      "displayName": "Revanth Shahukaru",
      "userId": "15386280149867855082"
     },
     "user_tz": 240
    },
    "id": "44dOAmPzV8YY",
    "outputId": "84ebd48d-25ad-4e58-d38a-942984a76978"
   },
   "outputs": [
    {
     "name": "stdout",
     "output_type": "stream",
     "text": [
      "CPU times: user 2.23 s, sys: 178 ms, total: 2.4 s\n",
      "Wall time: 1min 56s\n"
     ]
    }
   ],
   "source": [
    "%%time\n",
    "all_data = []\n",
    "\n",
    "for topic in youtube_df[\"video_title\"].unique():\n",
    "    posts = reddit.subreddit(\"all\").search(query=topic, limit=5, time_filter=time_filter)\n",
    "\n",
    "    for post in posts:\n",
    "        post_data = {\n",
    "            \"youtube_title\": topic,\n",
    "            \"reddit_post_title\": post.title,\n",
    "            \"post_score\": post.score,\n",
    "            \"post_url\": post.url,\n",
    "            \"post_created\": pd.to_datetime(post.created_utc, unit=\"s\"),\n",
    "            \"post_sentiment\": analyze_sentiment(clean_text(post.title)),\n",
    "            \"post_sentiment_emoji\": sentiment_emoji(analyze_sentiment(clean_text(post.title))),\n",
    "        }\n",
    "\n",
    "        # ⛓️ Add top 3 comments per post\n",
    "        post.comments.replace_more(limit=0)\n",
    "        comments = post.comments[:3]\n",
    "        for comment in comments:\n",
    "            cleaned = clean_text(comment.body)\n",
    "            all_data.append({\n",
    "                **post_data,\n",
    "                \"comment\": comment.body,\n",
    "                \"cleaned_comment\": cleaned,\n",
    "                \"comment_sentiment\": analyze_sentiment(cleaned),\n",
    "                \"comment_sentiment_emoji\": sentiment_emoji(analyze_sentiment(cleaned)),\n",
    "                \"comment_author\": str(comment.author),\n",
    "                \"comment_score\": comment.score\n",
    "            })"
   ]
  },
  {
   "cell_type": "markdown",
   "metadata": {
    "id": "oYA7P8ABWwSd"
   },
   "source": [
    "## Analyzing the DataFrame"
   ]
  },
  {
   "cell_type": "code",
   "execution_count": 9,
   "metadata": {
    "executionInfo": {
     "elapsed": 7,
     "status": "ok",
     "timestamp": 1745091272986,
     "user": {
      "displayName": "Revanth Shahukaru",
      "userId": "15386280149867855082"
     },
     "user_tz": 240
    },
    "id": "yf7GHJIwWtX_"
   },
   "outputs": [],
   "source": [
    "df = pd.DataFrame(all_data)"
   ]
  },
  {
   "cell_type": "code",
   "execution_count": 10,
   "metadata": {
    "colab": {
     "base_uri": "https://localhost:8080/",
     "height": 878
    },
    "executionInfo": {
     "elapsed": 313,
     "status": "ok",
     "timestamp": 1745091273301,
     "user": {
      "displayName": "Revanth Shahukaru",
      "userId": "15386280149867855082"
     },
     "user_tz": 240
    },
    "id": "jqSnZhFAWtTd",
    "outputId": "788da4eb-cb5e-4bc2-c20b-7f240019dc15"
   },
   "outputs": [
    {
     "data": {
      "text/html": [
       "<div>\n",
       "<style scoped>\n",
       "    .dataframe tbody tr th:only-of-type {\n",
       "        vertical-align: middle;\n",
       "    }\n",
       "\n",
       "    .dataframe tbody tr th {\n",
       "        vertical-align: top;\n",
       "    }\n",
       "\n",
       "    .dataframe thead th {\n",
       "        text-align: right;\n",
       "    }\n",
       "</style>\n",
       "<table border=\"1\" class=\"dataframe\">\n",
       "  <thead>\n",
       "    <tr style=\"text-align: right;\">\n",
       "      <th></th>\n",
       "      <th>youtube_title</th>\n",
       "      <th>reddit_post_title</th>\n",
       "      <th>post_score</th>\n",
       "      <th>post_url</th>\n",
       "      <th>post_created</th>\n",
       "      <th>post_sentiment</th>\n",
       "      <th>post_sentiment_emoji</th>\n",
       "      <th>comment</th>\n",
       "      <th>cleaned_comment</th>\n",
       "      <th>comment_sentiment</th>\n",
       "      <th>comment_sentiment_emoji</th>\n",
       "      <th>comment_author</th>\n",
       "      <th>comment_score</th>\n",
       "    </tr>\n",
       "  </thead>\n",
       "  <tbody>\n",
       "    <tr>\n",
       "      <th>0</th>\n",
       "      <td>FULL SEGMENT: Randy Orton ROCKS John Cena with...</td>\n",
       "      <td>Post WWE Raw 4/21/2025 Show Discussion Thread ...</td>\n",
       "      <td>190</td>\n",
       "      <td>https://www.reddit.com/r/SquaredCircle/comment...</td>\n",
       "      <td>2025-04-22 02:53:50</td>\n",
       "      <td>0.0000</td>\n",
       "      <td>😐</td>\n",
       "      <td>Corey Graves watching Pat get choked out\\n\\nht...</td>\n",
       "      <td>corey graves watching pat get choked out\\n\\n</td>\n",
       "      <td>-0.6486</td>\n",
       "      <td>😠</td>\n",
       "      <td>breakourbones</td>\n",
       "      <td>365</td>\n",
       "    </tr>\n",
       "    <tr>\n",
       "      <th>1</th>\n",
       "      <td>FULL SEGMENT: Randy Orton ROCKS John Cena with...</td>\n",
       "      <td>Post WWE Raw 4/21/2025 Show Discussion Thread ...</td>\n",
       "      <td>190</td>\n",
       "      <td>https://www.reddit.com/r/SquaredCircle/comment...</td>\n",
       "      <td>2025-04-22 02:53:50</td>\n",
       "      <td>0.0000</td>\n",
       "      <td>😐</td>\n",
       "      <td>“The role of Brock Lesner will now be played b...</td>\n",
       "      <td>the role of brock lesner will now be played by...</td>\n",
       "      <td>0.3400</td>\n",
       "      <td>😐</td>\n",
       "      <td>ShippingNotIncluded</td>\n",
       "      <td>515</td>\n",
       "    </tr>\n",
       "    <tr>\n",
       "      <th>2</th>\n",
       "      <td>FULL SEGMENT: Randy Orton ROCKS John Cena with...</td>\n",
       "      <td>Post WWE Raw 4/21/2025 Show Discussion Thread ...</td>\n",
       "      <td>190</td>\n",
       "      <td>https://www.reddit.com/r/SquaredCircle/comment...</td>\n",
       "      <td>2025-04-22 02:53:50</td>\n",
       "      <td>0.0000</td>\n",
       "      <td>😐</td>\n",
       "      <td>Seth, Bron and Heyman as a faction is going to...</td>\n",
       "      <td>seth bron and heyman as a faction is going to ...</td>\n",
       "      <td>-0.4576</td>\n",
       "      <td>😐</td>\n",
       "      <td>lunaticarchitect</td>\n",
       "      <td>231</td>\n",
       "    </tr>\n",
       "    <tr>\n",
       "      <th>3</th>\n",
       "      <td>FULL SEGMENT: Randy Orton ROCKS John Cena with...</td>\n",
       "      <td>Post WWE SmackDown Discussion Thread - April 1...</td>\n",
       "      <td>74</td>\n",
       "      <td>https://www.reddit.com/r/SquaredCircle/comment...</td>\n",
       "      <td>2025-04-19 02:59:55</td>\n",
       "      <td>0.0000</td>\n",
       "      <td>😐</td>\n",
       "      <td>Cena selling a single Cross Rhodes like death ...</td>\n",
       "      <td>cena selling a single cross rhodes like death ...</td>\n",
       "      <td>0.2006</td>\n",
       "      <td>😐</td>\n",
       "      <td>PepsiPlunge19</td>\n",
       "      <td>196</td>\n",
       "    </tr>\n",
       "    <tr>\n",
       "      <th>4</th>\n",
       "      <td>FULL SEGMENT: Randy Orton ROCKS John Cena with...</td>\n",
       "      <td>Post WWE SmackDown Discussion Thread - April 1...</td>\n",
       "      <td>74</td>\n",
       "      <td>https://www.reddit.com/r/SquaredCircle/comment...</td>\n",
       "      <td>2025-04-19 02:59:55</td>\n",
       "      <td>0.0000</td>\n",
       "      <td>😐</td>\n",
       "      <td>Cena never once had the upper hand all build. ...</td>\n",
       "      <td>cena never once had the upper hand all build h...</td>\n",
       "      <td>0.8519</td>\n",
       "      <td>😃</td>\n",
       "      <td>BathtubBobby</td>\n",
       "      <td>220</td>\n",
       "    </tr>\n",
       "    <tr>\n",
       "      <th>...</th>\n",
       "      <td>...</td>\n",
       "      <td>...</td>\n",
       "      <td>...</td>\n",
       "      <td>...</td>\n",
       "      <td>...</td>\n",
       "      <td>...</td>\n",
       "      <td>...</td>\n",
       "      <td>...</td>\n",
       "      <td>...</td>\n",
       "      <td>...</td>\n",
       "      <td>...</td>\n",
       "      <td>...</td>\n",
       "      <td>...</td>\n",
       "    </tr>\n",
       "    <tr>\n",
       "      <th>191</th>\n",
       "      <td>The Last Of Us - Well, They Really Did It</td>\n",
       "      <td>[New Update]: My husband left our 5 year old a...</td>\n",
       "      <td>6362</td>\n",
       "      <td>https://www.reddit.com/r/BestofRedditorUpdates...</td>\n",
       "      <td>2025-04-05 04:00:10</td>\n",
       "      <td>-0.2500</td>\n",
       "      <td>😐</td>\n",
       "      <td>“He’s hiding alcohol around the house and chug...</td>\n",
       "      <td>hes hiding alcohol around the house and chuggi...</td>\n",
       "      <td>0.6808</td>\n",
       "      <td>😃</td>\n",
       "      <td>Azrael2082</td>\n",
       "      <td>5631</td>\n",
       "    </tr>\n",
       "    <tr>\n",
       "      <th>192</th>\n",
       "      <td>The Last Of Us - Well, They Really Did It</td>\n",
       "      <td>[New Update]: My husband left our 5 year old a...</td>\n",
       "      <td>6362</td>\n",
       "      <td>https://www.reddit.com/r/BestofRedditorUpdates...</td>\n",
       "      <td>2025-04-05 04:00:10</td>\n",
       "      <td>-0.2500</td>\n",
       "      <td>😐</td>\n",
       "      <td>Oh my God I've been dying for this update.\\n\\n...</td>\n",
       "      <td>oh my god ive been dying for this update\\n\\nbu...</td>\n",
       "      <td>-0.4854</td>\n",
       "      <td>😐</td>\n",
       "      <td>0hn035</td>\n",
       "      <td>5131</td>\n",
       "    </tr>\n",
       "    <tr>\n",
       "      <th>193</th>\n",
       "      <td>The Last Of Us - Well, They Really Did It</td>\n",
       "      <td>NEW UPDATE: My(33F) Husband(36M) may have chea...</td>\n",
       "      <td>8127</td>\n",
       "      <td>https://www.reddit.com/r/BestofRedditorUpdates...</td>\n",
       "      <td>2025-04-01 04:18:01</td>\n",
       "      <td>-0.0516</td>\n",
       "      <td>😐</td>\n",
       "      <td>#Do not comment on the original posts\\n\\nPleas...</td>\n",
       "      <td>do not comment on the original posts\\n\\nplease...</td>\n",
       "      <td>0.3182</td>\n",
       "      <td>😐</td>\n",
       "      <td>AutoModerator</td>\n",
       "      <td>1</td>\n",
       "    </tr>\n",
       "    <tr>\n",
       "      <th>194</th>\n",
       "      <td>The Last Of Us - Well, They Really Did It</td>\n",
       "      <td>NEW UPDATE: My(33F) Husband(36M) may have chea...</td>\n",
       "      <td>8127</td>\n",
       "      <td>https://www.reddit.com/r/BestofRedditorUpdates...</td>\n",
       "      <td>2025-04-01 04:18:01</td>\n",
       "      <td>-0.0516</td>\n",
       "      <td>😐</td>\n",
       "      <td>When I read that the paternity test revealed t...</td>\n",
       "      <td>when i read that the paternity test revealed t...</td>\n",
       "      <td>0.5423</td>\n",
       "      <td>😃</td>\n",
       "      <td>randomndude01</td>\n",
       "      <td>9166</td>\n",
       "    </tr>\n",
       "    <tr>\n",
       "      <th>195</th>\n",
       "      <td>The Last Of Us - Well, They Really Did It</td>\n",
       "      <td>NEW UPDATE: My(33F) Husband(36M) may have chea...</td>\n",
       "      <td>8127</td>\n",
       "      <td>https://www.reddit.com/r/BestofRedditorUpdates...</td>\n",
       "      <td>2025-04-01 04:18:01</td>\n",
       "      <td>-0.0516</td>\n",
       "      <td>😐</td>\n",
       "      <td>The story sounds odd.  I wonder if the “friend...</td>\n",
       "      <td>the story sounds odd  i wonder if the friend r...</td>\n",
       "      <td>-0.5859</td>\n",
       "      <td>😠</td>\n",
       "      <td>RedditVirgin13</td>\n",
       "      <td>870</td>\n",
       "    </tr>\n",
       "  </tbody>\n",
       "</table>\n",
       "<p>196 rows × 13 columns</p>\n",
       "</div>"
      ],
      "text/plain": [
       "                                         youtube_title  \\\n",
       "0    FULL SEGMENT: Randy Orton ROCKS John Cena with...   \n",
       "1    FULL SEGMENT: Randy Orton ROCKS John Cena with...   \n",
       "2    FULL SEGMENT: Randy Orton ROCKS John Cena with...   \n",
       "3    FULL SEGMENT: Randy Orton ROCKS John Cena with...   \n",
       "4    FULL SEGMENT: Randy Orton ROCKS John Cena with...   \n",
       "..                                                 ...   \n",
       "191          The Last Of Us - Well, They Really Did It   \n",
       "192          The Last Of Us - Well, They Really Did It   \n",
       "193          The Last Of Us - Well, They Really Did It   \n",
       "194          The Last Of Us - Well, They Really Did It   \n",
       "195          The Last Of Us - Well, They Really Did It   \n",
       "\n",
       "                                     reddit_post_title  post_score  \\\n",
       "0    Post WWE Raw 4/21/2025 Show Discussion Thread ...         190   \n",
       "1    Post WWE Raw 4/21/2025 Show Discussion Thread ...         190   \n",
       "2    Post WWE Raw 4/21/2025 Show Discussion Thread ...         190   \n",
       "3    Post WWE SmackDown Discussion Thread - April 1...          74   \n",
       "4    Post WWE SmackDown Discussion Thread - April 1...          74   \n",
       "..                                                 ...         ...   \n",
       "191  [New Update]: My husband left our 5 year old a...        6362   \n",
       "192  [New Update]: My husband left our 5 year old a...        6362   \n",
       "193  NEW UPDATE: My(33F) Husband(36M) may have chea...        8127   \n",
       "194  NEW UPDATE: My(33F) Husband(36M) may have chea...        8127   \n",
       "195  NEW UPDATE: My(33F) Husband(36M) may have chea...        8127   \n",
       "\n",
       "                                              post_url        post_created  \\\n",
       "0    https://www.reddit.com/r/SquaredCircle/comment... 2025-04-22 02:53:50   \n",
       "1    https://www.reddit.com/r/SquaredCircle/comment... 2025-04-22 02:53:50   \n",
       "2    https://www.reddit.com/r/SquaredCircle/comment... 2025-04-22 02:53:50   \n",
       "3    https://www.reddit.com/r/SquaredCircle/comment... 2025-04-19 02:59:55   \n",
       "4    https://www.reddit.com/r/SquaredCircle/comment... 2025-04-19 02:59:55   \n",
       "..                                                 ...                 ...   \n",
       "191  https://www.reddit.com/r/BestofRedditorUpdates... 2025-04-05 04:00:10   \n",
       "192  https://www.reddit.com/r/BestofRedditorUpdates... 2025-04-05 04:00:10   \n",
       "193  https://www.reddit.com/r/BestofRedditorUpdates... 2025-04-01 04:18:01   \n",
       "194  https://www.reddit.com/r/BestofRedditorUpdates... 2025-04-01 04:18:01   \n",
       "195  https://www.reddit.com/r/BestofRedditorUpdates... 2025-04-01 04:18:01   \n",
       "\n",
       "     post_sentiment post_sentiment_emoji  \\\n",
       "0            0.0000                    😐   \n",
       "1            0.0000                    😐   \n",
       "2            0.0000                    😐   \n",
       "3            0.0000                    😐   \n",
       "4            0.0000                    😐   \n",
       "..              ...                  ...   \n",
       "191         -0.2500                    😐   \n",
       "192         -0.2500                    😐   \n",
       "193         -0.0516                    😐   \n",
       "194         -0.0516                    😐   \n",
       "195         -0.0516                    😐   \n",
       "\n",
       "                                               comment  \\\n",
       "0    Corey Graves watching Pat get choked out\\n\\nht...   \n",
       "1    “The role of Brock Lesner will now be played b...   \n",
       "2    Seth, Bron and Heyman as a faction is going to...   \n",
       "3    Cena selling a single Cross Rhodes like death ...   \n",
       "4    Cena never once had the upper hand all build. ...   \n",
       "..                                                 ...   \n",
       "191  “He’s hiding alcohol around the house and chug...   \n",
       "192  Oh my God I've been dying for this update.\\n\\n...   \n",
       "193  #Do not comment on the original posts\\n\\nPleas...   \n",
       "194  When I read that the paternity test revealed t...   \n",
       "195  The story sounds odd.  I wonder if the “friend...   \n",
       "\n",
       "                                       cleaned_comment  comment_sentiment  \\\n",
       "0         corey graves watching pat get choked out\\n\\n            -0.6486   \n",
       "1    the role of brock lesner will now be played by...             0.3400   \n",
       "2    seth bron and heyman as a faction is going to ...            -0.4576   \n",
       "3    cena selling a single cross rhodes like death ...             0.2006   \n",
       "4    cena never once had the upper hand all build h...             0.8519   \n",
       "..                                                 ...                ...   \n",
       "191  hes hiding alcohol around the house and chuggi...             0.6808   \n",
       "192  oh my god ive been dying for this update\\n\\nbu...            -0.4854   \n",
       "193  do not comment on the original posts\\n\\nplease...             0.3182   \n",
       "194  when i read that the paternity test revealed t...             0.5423   \n",
       "195  the story sounds odd  i wonder if the friend r...            -0.5859   \n",
       "\n",
       "    comment_sentiment_emoji       comment_author  comment_score  \n",
       "0                         😠        breakourbones            365  \n",
       "1                         😐  ShippingNotIncluded            515  \n",
       "2                         😐     lunaticarchitect            231  \n",
       "3                         😐        PepsiPlunge19            196  \n",
       "4                         😃         BathtubBobby            220  \n",
       "..                      ...                  ...            ...  \n",
       "191                       😃           Azrael2082           5631  \n",
       "192                       😐               0hn035           5131  \n",
       "193                       😐        AutoModerator              1  \n",
       "194                       😃        randomndude01           9166  \n",
       "195                       😠       RedditVirgin13            870  \n",
       "\n",
       "[196 rows x 13 columns]"
      ]
     },
     "execution_count": 10,
     "metadata": {},
     "output_type": "execute_result"
    }
   ],
   "source": [
    "df"
   ]
  },
  {
   "cell_type": "markdown",
   "metadata": {
    "id": "q9m7IyzVaetW"
   },
   "source": [
    "## Checking Downvoted Comments"
   ]
  },
  {
   "cell_type": "code",
   "execution_count": 11,
   "metadata": {
    "executionInfo": {
     "elapsed": 1,
     "status": "ok",
     "timestamp": 1745091273303,
     "user": {
      "displayName": "Revanth Shahukaru",
      "userId": "15386280149867855082"
     },
     "user_tz": 240
    },
    "id": "pYSupeXCWtOp"
   },
   "outputs": [
    {
     "name": "stdout",
     "output_type": "stream",
     "text": [
      "Comment:\n",
      "I really want Cletus to do well but not knowing where the start/finish line just gives a feeling like he doesn't care enough about what he's doing to learn. But hearing his \"plan\" is to make Xfinity seems like it's much more attainable now that he and Jr have a friendship\n",
      "\n",
      "Comment Score:\n",
      "-3\n",
      "Comment:\n",
      "stop spamming this rubbish video ffs\n",
      "\n",
      "Comment Score:\n",
      "-4\n"
     ]
    }
   ],
   "source": [
    "df[df[\"comment_score\"] < 0][[\"comment\", \"comment_score\"]]\n",
    "\n",
    "for comment, comment_score in zip(df[\"comment\"], df[\"comment_score\"]):\n",
    "    if comment_score < 0:\n",
    "        print(f\"Comment:\\n{comment}\", f\"Comment Score:\\n{comment_score}\", sep=\"\\n\\n\")"
   ]
  },
  {
   "cell_type": "markdown",
   "metadata": {
    "id": "JxziBZSXWm4c"
   },
   "source": [
    "## 💾 Save to CSV"
   ]
  },
  {
   "cell_type": "code",
   "execution_count": 12,
   "metadata": {
    "executionInfo": {
     "elapsed": 132,
     "status": "ok",
     "timestamp": 1745091273454,
     "user": {
      "displayName": "Revanth Shahukaru",
      "userId": "15386280149867855082"
     },
     "user_tz": 240
    },
    "id": "R9d9ep2UV8Vg"
   },
   "outputs": [],
   "source": [
    "df.to_csv(\"../data/reddit_data.csv\", index=False)"
   ]
  }
 ],
 "metadata": {
  "colab": {
   "authorship_tag": "ABX9TyNzjfyPJcBPdHZIF+Qxbw7i",
   "mount_file_id": "15sSox08qpH3gll6DB2mYIYf0mIacqb3h",
   "provenance": []
  },
  "kernelspec": {
   "display_name": "venv",
   "language": "python",
   "name": "python3"
  },
  "language_info": {
   "codemirror_mode": {
    "name": "ipython",
    "version": 3
   },
   "file_extension": ".py",
   "mimetype": "text/x-python",
   "name": "python",
   "nbconvert_exporter": "python",
   "pygments_lexer": "ipython3",
   "version": "3.12.1"
  }
 },
 "nbformat": 4,
 "nbformat_minor": 0
}
